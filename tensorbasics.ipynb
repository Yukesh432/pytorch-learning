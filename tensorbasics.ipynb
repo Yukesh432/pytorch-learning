{
 "cells": [
  {
   "cell_type": "code",
   "execution_count": 1,
   "metadata": {},
   "outputs": [],
   "source": [
    "import torch\n",
    "\n",
    "# 1. Creating Tensors\n",
    "tensor_from_list = torch.tensor([1, 2, 3])  # From a Python list\n",
    "tensor_from_array = torch.tensor([[4, 5], [6, 7]])  # 2D tensor from a nested list\n",
    "zero_tensor = torch.zeros((2, 3))  # 2x3 tensor filled with zeros\n",
    "one_tensor = torch.ones((3, 3))  # 3x3 tensor filled with ones\n",
    "rand_tensor = torch.rand((2, 2))  # 2x2 tensor with random values"
   ]
  },
  {
   "cell_type": "code",
   "execution_count": 18,
   "metadata": {},
   "outputs": [
    {
     "name": "stdout",
     "output_type": "stream",
     "text": [
      "tensor([113])\n"
     ]
    }
   ],
   "source": [
    "print(torch.tensor([113]))\n",
    "# print(torch.tensor(12).shape)"
   ]
  },
  {
   "cell_type": "code",
   "execution_count": null,
   "metadata": {},
   "outputs": [],
   "source": [
    "dim1tensor= torch.tenso([12])"
   ]
  },
  {
   "cell_type": "code",
   "execution_count": 5,
   "metadata": {},
   "outputs": [
    {
     "name": "stdout",
     "output_type": "stream",
     "text": [
      "torch.Size([3])\n",
      "torch.Size([2, 2])\n",
      "torch.Size([2, 2])\n"
     ]
    }
   ],
   "source": [
    "print(tensor_from_list.shape)\n",
    "print(tensor_from_array.shape)\n",
    "print(rand_tensor.shape)"
   ]
  },
  {
   "cell_type": "code",
   "execution_count": 4,
   "metadata": {},
   "outputs": [
    {
     "data": {
      "text/plain": [
       "torch.Size([3])"
      ]
     },
     "execution_count": 4,
     "metadata": {},
     "output_type": "execute_result"
    }
   ],
   "source": []
  },
  {
   "cell_type": "code",
   "execution_count": null,
   "metadata": {},
   "outputs": [],
   "source": [
    "import torch\n",
    "\n",
    "# 1. Creating Tensors\n",
    "tensor_from_list = torch.tensor([1, 2, 3])  # From a Python list\n",
    "tensor_from_array = torch.tensor([[4, 5], [6, 7]])  # 2D tensor from a nested list\n",
    "zero_tensor = torch.zeros((2, 3))  # 2x3 tensor filled with zeros\n",
    "one_tensor = torch.ones((3, 3))  # 3x3 tensor filled with ones\n",
    "rand_tensor = torch.rand((2, 2))  # 2x2 tensor with random values\n",
    "\n",
    "# 2. Basic Tensor Operations\n",
    "added_tensor = tensor_from_list + tensor_from_list  # Element-wise addition\n",
    "mul_tensor = tensor_from_list * 2  # Element-wise multiplication\n",
    "reshaped_tensor = tensor_from_array.view(4)  # Reshaping tensor to 1D\n",
    "\n",
    "# Displaying tensors\n",
    "print(\"Created Tensors:\")\n",
    "print(\"From List:\", tensor_from_list)\n",
    "print(\"2D Tensor:\", tensor_from_array)\n",
    "print(\"Zeros:\", zero_tensor)\n",
    "print(\"Ones:\", one_tensor)\n",
    "print(\"Random:\", rand_tensor)\n",
    "print(\"\\nBasic Operations:\")\n",
    "print(\"Added Tensor:\", added_tensor)\n",
    "print(\"Multiplied Tensor:\", mul_tensor)\n",
    "print(\"Reshaped Tensor:\", reshaped_tensor)\n"
   ]
  }
 ],
 "metadata": {
  "kernelspec": {
   "display_name": "My gpu kernel",
   "language": "python",
   "name": "gputest"
  },
  "language_info": {
   "codemirror_mode": {
    "name": "ipython",
    "version": 3
   },
   "file_extension": ".py",
   "mimetype": "text/x-python",
   "name": "python",
   "nbconvert_exporter": "python",
   "pygments_lexer": "ipython3",
   "version": "3.10.10"
  }
 },
 "nbformat": 4,
 "nbformat_minor": 2
}
