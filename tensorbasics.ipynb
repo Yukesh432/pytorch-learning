{
 "cells": [
  {
   "cell_type": "code",
   "execution_count": 2,
   "metadata": {},
   "outputs": [],
   "source": [
    "import torch\n",
    "\n",
    "# 1. Creating Tensors\n",
    "tensor_from_list = torch.tensor([1, 2, 3])  # From a Python list\n",
    "tensor_from_array = torch.tensor([[4, 5], [6, 7]])  # 2D tensor from a nested list\n",
    "zero_tensor = torch.zeros((2, 3))  # 2x3 tensor filled with zeros\n",
    "one_tensor = torch.ones((3, 3))  # 3x3 tensor filled with ones\n",
    "rand_tensor = torch.rand((2, 2))  # 2x2 tensor with random values"
   ]
  },
  {
   "cell_type": "code",
   "execution_count": 18,
   "metadata": {},
   "outputs": [
    {
     "name": "stdout",
     "output_type": "stream",
     "text": [
      "tensor([113])\n"
     ]
    }
   ],
   "source": [
    "print(torch.tensor([113]))\n",
    "# print(torch.tensor(12).shape)"
   ]
  },
  {
   "cell_type": "code",
   "execution_count": 36,
   "metadata": {},
   "outputs": [
    {
     "name": "stdout",
     "output_type": "stream",
     "text": [
      "tensor([ 12, 123,  45])\n",
      "torch.Size([3])\n"
     ]
    }
   ],
   "source": [
    "# creating a 1d tensor(also called vector)\n",
    "tensor_1d= torch.tensor([12, 123, 45])\n",
    "print(tensor_1d)\n",
    "print(tensor_1d.shape)\n",
    "# torch.Size([3]) means the tensor is one-dimensional with a length of 3 elements."
   ]
  },
  {
   "cell_type": "code",
   "execution_count": 37,
   "metadata": {},
   "outputs": [
    {
     "name": "stdout",
     "output_type": "stream",
     "text": [
      "tensor([[1, 2, 3],\n",
      "        [4, 5, 6]])\n",
      "tensor([[1, 2, 3],\n",
      "        [4, 5, 6]])\n",
      "torch.Size([2, 3])\n"
     ]
    }
   ],
   "source": [
    "# creating 2d tensor\n",
    "tensor_2d= torch.tensor(([1,2,3], [4,5,6]))\n",
    "print(tensor_2d)\n",
    "\n",
    "tensor_2dd= torch.tensor([[1,2,3],[4,5,6]])\n",
    "print(tensor_2dd)\n",
    "print(tensor_2dd.shape)\n",
    "# torch.Size([2, 3]) indicates that the tensor is two-dimensional with 2 rows and 3 columns"
   ]
  },
  {
   "cell_type": "markdown",
   "metadata": {},
   "source": [
    "dimensionality of a tensor in PyTorch refers to the levels of nested lists used to create it, not just the number of rows or elements."
   ]
  },
  {
   "cell_type": "code",
   "execution_count": 38,
   "metadata": {},
   "outputs": [
    {
     "name": "stdout",
     "output_type": "stream",
     "text": [
      "tensor([[ 1,  2,  3,  4],\n",
      "        [ 5,  6,  7,  8],\n",
      "        [33, 22, 11, 44]])\n",
      "torch.Size([3, 4])\n"
     ]
    }
   ],
   "source": [
    "# creating 3 3d tensor\n",
    "tensor_3d= torch.tensor([[1,2,3,4],[5,6,7,8],[33,22,11,44]])\n",
    "print(tensor_3d)\n",
    "print(tensor_3d.shape)\n",
    "# torch.Size([3, 4]) means the tensor is two-dimensional with 3 rows and 4 columns."
   ]
  },
  {
   "cell_type": "code",
   "execution_count": 41,
   "metadata": {},
   "outputs": [
    {
     "name": "stdout",
     "output_type": "stream",
     "text": [
      "tensor([[ 1,  2,  3,  4],\n",
      "        [ 5,  6,  7,  8],\n",
      "        [33, 22, 11, 44]])\n",
      "torch.Size([3, 4])\n"
     ]
    }
   ],
   "source": [
    "tensor_3d= torch.tensor([[1,2,3,4],[5,6,7,8],[33,22,11,44]])\n",
    "print(tensor_3d)\n",
    "print(tensor_3d.shape)\n",
    "\n",
    "# In this example, tensor_3d is a 3D tensor with the shape [1, 3, 4], which means\n",
    "# it has 1 layer (or depth) that contains a 3x4 matrix. The extra pair of brackets [[]] around\n",
    "# the original lists adds another dimension."
   ]
  },
  {
   "cell_type": "code",
   "execution_count": 54,
   "metadata": {},
   "outputs": [
    {
     "ename": "ValueError",
     "evalue": "expected sequence of length 3 at dim 1 (got 2)",
     "output_type": "error",
     "traceback": [
      "\u001b[1;31m---------------------------------------------------------------------------\u001b[0m",
      "\u001b[1;31mValueError\u001b[0m                                Traceback (most recent call last)",
      "Cell \u001b[1;32mIn[54], line 3\u001b[0m\n\u001b[0;32m      1\u001b[0m \u001b[38;5;66;03m# dimtensor= torch.tensor([[[1,2], [6,6],[44,22]], [[1,2], [6,6],[44,22]], [[1], [6,6],[44,22]]])\u001b[39;00m\n\u001b[0;32m      2\u001b[0m \u001b[38;5;66;03m# dimtensor= torch.tensor([[[1,2], [6,6],[44,22]], [[2,5], [6,6],[44,22]]])\u001b[39;00m\n\u001b[1;32m----> 3\u001b[0m dimtensor\u001b[38;5;241m=\u001b[39m \u001b[43mtorch\u001b[49m\u001b[38;5;241;43m.\u001b[39;49m\u001b[43mtensor\u001b[49m\u001b[43m(\u001b[49m\u001b[43m[\u001b[49m\u001b[43m[\u001b[49m\u001b[43m[\u001b[49m\u001b[38;5;241;43m1\u001b[39;49m\u001b[43m,\u001b[49m\u001b[38;5;241;43m2\u001b[39;49m\u001b[43m]\u001b[49m\u001b[43m,\u001b[49m\u001b[43m \u001b[49m\u001b[43m[\u001b[49m\u001b[38;5;241;43m6\u001b[39;49m\u001b[43m,\u001b[49m\u001b[38;5;241;43m6\u001b[39;49m\u001b[43m]\u001b[49m\u001b[43m,\u001b[49m\u001b[43m[\u001b[49m\u001b[38;5;241;43m44\u001b[39;49m\u001b[43m,\u001b[49m\u001b[38;5;241;43m22\u001b[39;49m\u001b[43m]\u001b[49m\u001b[43m]\u001b[49m\u001b[43m,\u001b[49m\u001b[43m \u001b[49m\u001b[43m[\u001b[49m\u001b[43m[\u001b[49m\u001b[38;5;241;43m6\u001b[39;49m\u001b[43m,\u001b[49m\u001b[38;5;241;43m6\u001b[39;49m\u001b[43m]\u001b[49m\u001b[43m,\u001b[49m\u001b[43m[\u001b[49m\u001b[38;5;241;43m44\u001b[39;49m\u001b[43m,\u001b[49m\u001b[38;5;241;43m22\u001b[39;49m\u001b[43m]\u001b[49m\u001b[43m]\u001b[49m\u001b[43m]\u001b[49m\u001b[43m)\u001b[49m\n\u001b[0;32m      4\u001b[0m \u001b[38;5;28mprint\u001b[39m(dimtensor\u001b[38;5;241m.\u001b[39mshape)\n",
      "\u001b[1;31mValueError\u001b[0m: expected sequence of length 3 at dim 1 (got 2)"
     ]
    }
   ],
   "source": [
    "# dimtensor= torch.tensor([[[1,2], [6,6],[44,22]], [[1,2], [6,6],[44,22]], [[1], [6,6],[44,22]]])\n",
    "# dimtensor= torch.tensor([[[1,2], [6,6],[44,22]], [[2,5], [6,6],[44,22]]])\n",
    "dimtensor= torch.tensor([[[1,2], [6,6],[44,22]], [[6,6],[44,22]]])\n",
    "print(dimtensor.shape)"
   ]
  },
  {
   "cell_type": "code",
   "execution_count": 55,
   "metadata": {},
   "outputs": [
    {
     "name": "stdout",
     "output_type": "stream",
     "text": [
      "torch.Size([2, 3, 2])\n"
     ]
    }
   ],
   "source": [
    "dimtensor= torch.tensor([[[1,2], [6,6],[44,22]], [[1,2],[6,6],[44,22]]])\n",
    "print(dimtensor.shape)"
   ]
  },
  {
   "cell_type": "code",
   "execution_count": 5,
   "metadata": {},
   "outputs": [
    {
     "name": "stdout",
     "output_type": "stream",
     "text": [
      "tensor([[[  1,   3,   4],\n",
      "         [  4,   5,   6]],\n",
      "\n",
      "        [[ 44,  66,  44],\n",
      "         [ 77,  88,  99]],\n",
      "\n",
      "        [[ 66,  55,  45],\n",
      "         [ 11,  22, 333]],\n",
      "\n",
      "        [[321, 321,   1],\n",
      "         [345, 655, 789]]])\n",
      "torch.Size([4, 2, 3])\n"
     ]
    }
   ],
   "source": [
    "fourDtensor= torch.tensor([[[1,3,4], [4,5,6]], [[44,66,44], [77,88,99]],[[66,55,45],[11,22,333]], [[321,321,1],[345,655,789]]])\n",
    "print(fourDtensor)\n",
    "print(fourDtensor.shape)"
   ]
  },
  {
   "cell_type": "code",
   "execution_count": 5,
   "metadata": {},
   "outputs": [
    {
     "name": "stdout",
     "output_type": "stream",
     "text": [
      "torch.Size([3])\n",
      "torch.Size([2, 2])\n",
      "torch.Size([2, 2])\n"
     ]
    }
   ],
   "source": [
    "print(tensor_from_list.shape)\n",
    "print(tensor_from_array.shape)\n",
    "print(rand_tensor.shape)"
   ]
  },
  {
   "cell_type": "code",
   "execution_count": 10,
   "metadata": {},
   "outputs": [
    {
     "name": "stdout",
     "output_type": "stream",
     "text": [
      "tensor([[[[ 1,  2,  3],\n",
      "          [ 4, 55, 77]]]])\n",
      "torch.Size([1, 1, 2, 3])\n"
     ]
    }
   ],
   "source": [
    "tensorxyz= torch.tensor([[[[1,2,3], [4, 55, 77]]]])\n",
    "print(tensorxyz)\n",
    "# print(tensorxyz.shape)"
   ]
  },
  {
   "cell_type": "code",
   "execution_count": 1,
   "metadata": {},
   "outputs": [
    {
     "name": "stdout",
     "output_type": "stream",
     "text": [
      "tensor([11, 22, 33])\n"
     ]
    }
   ],
   "source": [
    "import torch\n",
    "nextensor= torch.tensor([11,22,33])\n",
    "print(nextensor)"
   ]
  },
  {
   "cell_type": "code",
   "execution_count": null,
   "metadata": {},
   "outputs": [],
   "source": [
    "import torch\n",
    "\n",
    "# 1. Creating Tensors\n",
    "tensor_from_list = torch.tensor([1, 2, 3])  # From a Python list\n",
    "tensor_from_array = torch.tensor([[4, 5], [6, 7]])  # 2D tensor from a nested list\n",
    "zero_tensor = torch.zeros((2, 3))  # 2x3 tensor filled with zeros\n",
    "one_tensor = torch.ones((3, 3))  # 3x3 tensor filled with ones\n",
    "rand_tensor = torch.rand((2, 2))  # 2x2 tensor with random values\n",
    "\n",
    "# 2. Basic Tensor Operations\n",
    "added_tensor = tensor_from_list + tensor_from_list  # Element-wise addition\n",
    "mul_tensor = tensor_from_list * 2  # Element-wise multiplication\n",
    "reshaped_tensor = tensor_from_array.view(4)  # Reshaping tensor to 1D\n",
    "\n",
    "# Displaying tensors\n",
    "print(\"Created Tensors:\")\n",
    "print(\"From List:\", tensor_from_list)\n",
    "print(\"2D Tensor:\", tensor_from_array)\n",
    "print(\"Zeros:\", zero_tensor)\n",
    "print(\"Ones:\", one_tensor)\n",
    "print(\"Random:\", rand_tensor)\n",
    "print(\"\\nBasic Operations:\")\n",
    "print(\"Added Tensor:\", added_tensor)\n",
    "print(\"Multiplied Tensor:\", mul_tensor)\n",
    "print(\"Reshaped Tensor:\", reshaped_tensor)\n"
   ]
  },
  {
   "cell_type": "code",
   "execution_count": 1,
   "metadata": {},
   "outputs": [],
   "source": [
    "import torch"
   ]
  },
  {
   "cell_type": "code",
   "execution_count": 9,
   "metadata": {},
   "outputs": [
    {
     "name": "stdout",
     "output_type": "stream",
     "text": [
      "torch.Size([5, 4])\n"
     ]
    }
   ],
   "source": [
    "torchxx= torch.tensor([[1,2,3,5],[4,3,2,1], [55,44,33,22], [55,44,33,22], [55,44,33,22]])\n",
    "print(torchxx.shape)"
   ]
  },
  {
   "cell_type": "markdown",
   "metadata": {},
   "source": [
    "##### Tensor Squeeze and Unsqueeze"
   ]
  },
  {
   "cell_type": "code",
   "execution_count": 1,
   "metadata": {},
   "outputs": [
    {
     "name": "stdout",
     "output_type": "stream",
     "text": [
      "Input tensor Size:\n",
      " torch.Size([3, 1, 2, 1, 4])\n",
      "Size after squeeze:\n",
      " torch.Size([3, 2, 4])\n"
     ]
    }
   ],
   "source": [
    "# Python program to squeeze the tensor\n",
    "# importing torch\n",
    "import torch\n",
    "\n",
    "# creating the input tensor\n",
    "input = torch.randn(3,1,2,1,4)\n",
    "# print the input tensor\n",
    "print(\"Input tensor Size:\\n\",input.size())\n",
    "\n",
    "# squeeze the tensor\n",
    "output = torch.squeeze(input)\n",
    "# print the squeezed tensor\n",
    "print(\"Size after squeeze:\\n\",output.size())\n"
   ]
  },
  {
   "cell_type": "code",
   "execution_count": 5,
   "metadata": {},
   "outputs": [
    {
     "name": "stdout",
     "output_type": "stream",
     "text": [
      "Shape of Input Tensor : torch.Size([5])\n",
      "Output Tensor : tensor([[ 50],\n",
      "        [ 25],\n",
      "        [ 75],\n",
      "        [100],\n",
      "        [150]])\n",
      "Shape of Output Tensor : torch.Size([5, 1])\n"
     ]
    }
   ],
   "source": [
    "x = torch.tensor([50, 25, 75, 100, 150])\n",
    "\n",
    "print(\"Shape of Input Tensor :\", x.shape)\n",
    "\n",
    "u = torch.unsqueeze(x, 1) \n",
    "\n",
    "print(\"Output Tensor :\" ,u)\n",
    "\n",
    "print(\"Shape of Output Tensor :\", u.shape)"
   ]
  },
  {
   "cell_type": "code",
   "execution_count": null,
   "metadata": {},
   "outputs": [],
   "source": []
  }
 ],
 "metadata": {
  "kernelspec": {
   "display_name": "gpuenv",
   "language": "python",
   "name": "python3"
  },
  "language_info": {
   "codemirror_mode": {
    "name": "ipython",
    "version": 3
   },
   "file_extension": ".py",
   "mimetype": "text/x-python",
   "name": "python",
   "nbconvert_exporter": "python",
   "pygments_lexer": "ipython3",
   "version": "3.11.4"
  }
 },
 "nbformat": 4,
 "nbformat_minor": 2
}
