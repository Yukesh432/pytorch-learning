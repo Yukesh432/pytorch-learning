{
  "cells": [
    {
      "cell_type": "code",
      "execution_count": null,
      "metadata": {
        "id": "MV3toE9QtJjk"
      },
      "outputs": [],
      "source": [
        "import torch\n",
        "import torch.nn as nn\n",
        "import torch.optim as optim\n",
        "import torch.utils.data as data"
      ]
    },
    {
      "cell_type": "code",
      "execution_count": null,
      "metadata": {
        "id": "YOQJvVgtCN4T"
      },
      "outputs": [],
      "source": [
        "# filename = \"wonderland.txt\"\n",
        "# raw_text = open(filename, 'r', encoding='utf-8').read()\n",
        "# raw_text = raw_text.lower()\n",
        "def load_data(file_path):\n",
        "    with open(file_path, 'r', encoding='utf-8') as file:\n",
        "        text = file.read()\n",
        "    return text.lower()\n",
        "\n",
        "\n",
        "# Load the data\n",
        "file_path = 'wiki.train.raw'\n",
        "text_data = load_data(file_path)\n",
        "\n",
        "# # create mapping of unique chars to integers\n",
        "# chars = sorted(list(set(raw_text)))\n",
        "# char_to_int = dict((c, i) for i, c in enumerate(chars))\n",
        "\n",
        "# # summarize the loaded data\n",
        "# n_chars = len(raw_text)\n",
        "# n_vocab = len(chars)\n",
        "# print(\"Total Characters: \", n_chars)\n",
        "# print(\"Total Vocab: \", n_vocab)"
      ]
    },
    {
      "cell_type": "code",
      "execution_count": null,
      "metadata": {
        "colab": {
          "base_uri": "https://localhost:8080/"
        },
        "id": "PiviVMIZDZUS",
        "outputId": "32e0ae6a-c4b5-4c5b-919a-0dc0332d26fa"
      },
      "outputs": [
        {
          "name": "stdout",
          "output_type": "stream",
          "text": [
            "30\n"
          ]
        }
      ],
      "source": [
        "print(len(text_data[0:30]))"
      ]
    },
    {
      "cell_type": "code",
      "execution_count": null,
      "metadata": {
        "id": "atZ4coPhDcF-"
      },
      "outputs": [],
      "source": []
    },
    {
      "cell_type": "code",
      "execution_count": null,
      "metadata": {
        "colab": {
          "base_uri": "https://localhost:8080/"
        },
        "id": "T40ZiLr5FxPr",
        "outputId": "e7bcda62-091b-43d9-a5e2-7c1cfa4136ff"
      },
      "outputs": [
        {
          "name": "stdout",
          "output_type": "stream",
          "text": [
            "########################################################################################################################################################################################################\n",
            "the total number of characters in dataset  10918893\n",
            "the length of vocab(unique characters) in dataset  940\n"
          ]
        }
      ],
      "source": [
        "char_list= sorted(list(set(text_data)))      # 940 unique characters\n",
        "num_characters= len(char_list)               # 940\n",
        "total_characters= len(text_data)             # 10918893\n",
        "char_to_int= dict((c, i) for i, c in enumerate(char_list))\n",
        "print(\"#\"*200)\n",
        "print(\"the total number of characters in dataset \", len(text_data))\n",
        "print(\"the length of vocab(unique characters) in dataset \", len(char_list))"
      ]
    },
    {
      "cell_type": "code",
      "execution_count": null,
      "metadata": {
        "colab": {
          "base_uri": "https://localhost:8080/"
        },
        "id": "FACfJ-XfKcVH",
        "outputId": "94d1663d-e0fe-4621-a834-a57d742294bd"
      },
      "outputs": [
        {
          "name": "stdout",
          "output_type": "stream",
          "text": [
            "[[1, 0, 1, 30, 1, 61, 40, 51, 50, 64, 57, 48, 40, 1, 42, 47, 57, 54, 53, 48, 42, 51, 44, 58, 1, 48, 48, 48, 1, 30, 1, 0, 1, 0, 1, 58, 44, 53, 49, 134, 1, 53, 54, 1, 61, 40, 51, 50, 64, 57, 48, 40, 1, 20, 1, 27, 1, 60, 53, 57, 44, 42, 54, 57, 43, 44, 43, 1, 42, 47, 57, 54, 53, 48, 42, 51, 44, 58, 1, 9, 1, 49, 40, 55, 40, 53, 44, 58, 44, 1, 27, 1, 737, 685, 544, 620, 564, 616, 575, 612]]\n",
            "the length of dataX is: 1\n",
            "[]\n",
            "the length of dataY is: 0\n",
            "[[1, 0, 1, 30, 1, 61, 40, 51, 50, 64, 57, 48, 40, 1, 42, 47, 57, 54, 53, 48, 42, 51, 44, 58, 1, 48, 48, 48, 1, 30, 1, 0, 1, 0, 1, 58, 44, 53, 49, 134, 1, 53, 54, 1, 61, 40, 51, 50, 64, 57, 48, 40, 1, 20, 1, 27, 1, 60, 53, 57, 44, 42, 54, 57, 43, 44, 43, 1, 42, 47, 57, 54, 53, 48, 42, 51, 44, 58, 1, 9, 1, 49, 40, 55, 40, 53, 44, 58, 44, 1, 27, 1, 737, 685, 544, 620, 564, 616, 575, 612], [0, 1, 30, 1, 61, 40, 51, 50, 64, 57, 48, 40, 1, 42, 47, 57, 54, 53, 48, 42, 51, 44, 58, 1, 48, 48, 48, 1, 30, 1, 0, 1, 0, 1, 58, 44, 53, 49, 134, 1, 53, 54, 1, 61, 40, 51, 50, 64, 57, 48, 40, 1, 20, 1, 27, 1, 60, 53, 57, 44, 42, 54, 57, 43, 44, 43, 1, 42, 47, 57, 54, 53, 48, 42, 51, 44, 58, 1, 9, 1, 49, 40, 55, 40, 53, 44, 58, 44, 1, 27, 1, 737, 685, 544, 620, 564, 616, 575, 612, 615]]\n",
            "the length of dataX is: 2\n",
            "[615]\n",
            "the length of dataY is: 1\n",
            "[[1, 0, 1, 30, 1, 61, 40, 51, 50, 64, 57, 48, 40, 1, 42, 47, 57, 54, 53, 48, 42, 51, 44, 58, 1, 48, 48, 48, 1, 30, 1, 0, 1, 0, 1, 58, 44, 53, 49, 134, 1, 53, 54, 1, 61, 40, 51, 50, 64, 57, 48, 40, 1, 20, 1, 27, 1, 60, 53, 57, 44, 42, 54, 57, 43, 44, 43, 1, 42, 47, 57, 54, 53, 48, 42, 51, 44, 58, 1, 9, 1, 49, 40, 55, 40, 53, 44, 58, 44, 1, 27, 1, 737, 685, 544, 620, 564, 616, 575, 612], [0, 1, 30, 1, 61, 40, 51, 50, 64, 57, 48, 40, 1, 42, 47, 57, 54, 53, 48, 42, 51, 44, 58, 1, 48, 48, 48, 1, 30, 1, 0, 1, 0, 1, 58, 44, 53, 49, 134, 1, 53, 54, 1, 61, 40, 51, 50, 64, 57, 48, 40, 1, 20, 1, 27, 1, 60, 53, 57, 44, 42, 54, 57, 43, 44, 43, 1, 42, 47, 57, 54, 53, 48, 42, 51, 44, 58, 1, 9, 1, 49, 40, 55, 40, 53, 44, 58, 44, 1, 27, 1, 737, 685, 544, 620, 564, 616, 575, 612, 615], [1, 30, 1, 61, 40, 51, 50, 64, 57, 48, 40, 1, 42, 47, 57, 54, 53, 48, 42, 51, 44, 58, 1, 48, 48, 48, 1, 30, 1, 0, 1, 0, 1, 58, 44, 53, 49, 134, 1, 53, 54, 1, 61, 40, 51, 50, 64, 57, 48, 40, 1, 20, 1, 27, 1, 60, 53, 57, 44, 42, 54, 57, 43, 44, 43, 1, 42, 47, 57, 54, 53, 48, 42, 51, 44, 58, 1, 9, 1, 49, 40, 55, 40, 53, 44, 58, 44, 1, 27, 1, 737, 685, 544, 620, 564, 616, 575, 612, 615, 565]]\n",
            "the length of dataX is: 3\n",
            "[615, 565]\n",
            "the length of dataY is: 2\n",
            "[[1, 0, 1, 30, 1, 61, 40, 51, 50, 64, 57, 48, 40, 1, 42, 47, 57, 54, 53, 48, 42, 51, 44, 58, 1, 48, 48, 48, 1, 30, 1, 0, 1, 0, 1, 58, 44, 53, 49, 134, 1, 53, 54, 1, 61, 40, 51, 50, 64, 57, 48, 40, 1, 20, 1, 27, 1, 60, 53, 57, 44, 42, 54, 57, 43, 44, 43, 1, 42, 47, 57, 54, 53, 48, 42, 51, 44, 58, 1, 9, 1, 49, 40, 55, 40, 53, 44, 58, 44, 1, 27, 1, 737, 685, 544, 620, 564, 616, 575, 612], [0, 1, 30, 1, 61, 40, 51, 50, 64, 57, 48, 40, 1, 42, 47, 57, 54, 53, 48, 42, 51, 44, 58, 1, 48, 48, 48, 1, 30, 1, 0, 1, 0, 1, 58, 44, 53, 49, 134, 1, 53, 54, 1, 61, 40, 51, 50, 64, 57, 48, 40, 1, 20, 1, 27, 1, 60, 53, 57, 44, 42, 54, 57, 43, 44, 43, 1, 42, 47, 57, 54, 53, 48, 42, 51, 44, 58, 1, 9, 1, 49, 40, 55, 40, 53, 44, 58, 44, 1, 27, 1, 737, 685, 544, 620, 564, 616, 575, 612, 615], [1, 30, 1, 61, 40, 51, 50, 64, 57, 48, 40, 1, 42, 47, 57, 54, 53, 48, 42, 51, 44, 58, 1, 48, 48, 48, 1, 30, 1, 0, 1, 0, 1, 58, 44, 53, 49, 134, 1, 53, 54, 1, 61, 40, 51, 50, 64, 57, 48, 40, 1, 20, 1, 27, 1, 60, 53, 57, 44, 42, 54, 57, 43, 44, 43, 1, 42, 47, 57, 54, 53, 48, 42, 51, 44, 58, 1, 9, 1, 49, 40, 55, 40, 53, 44, 58, 44, 1, 27, 1, 737, 685, 544, 620, 564, 616, 575, 612, 615, 565], [30, 1, 61, 40, 51, 50, 64, 57, 48, 40, 1, 42, 47, 57, 54, 53, 48, 42, 51, 44, 58, 1, 48, 48, 48, 1, 30, 1, 0, 1, 0, 1, 58, 44, 53, 49, 134, 1, 53, 54, 1, 61, 40, 51, 50, 64, 57, 48, 40, 1, 20, 1, 27, 1, 60, 53, 57, 44, 42, 54, 57, 43, 44, 43, 1, 42, 47, 57, 54, 53, 48, 42, 51, 44, 58, 1, 9, 1, 49, 40, 55, 40, 53, 44, 58, 44, 1, 27, 1, 737, 685, 544, 620, 564, 616, 575, 612, 615, 565, 20]]\n",
            "the length of dataX is: 4\n",
            "[615, 565, 20]\n",
            "the length of dataY is: 3\n",
            "[[1, 0, 1, 30, 1, 61, 40, 51, 50, 64, 57, 48, 40, 1, 42, 47, 57, 54, 53, 48, 42, 51, 44, 58, 1, 48, 48, 48, 1, 30, 1, 0, 1, 0, 1, 58, 44, 53, 49, 134, 1, 53, 54, 1, 61, 40, 51, 50, 64, 57, 48, 40, 1, 20, 1, 27, 1, 60, 53, 57, 44, 42, 54, 57, 43, 44, 43, 1, 42, 47, 57, 54, 53, 48, 42, 51, 44, 58, 1, 9, 1, 49, 40, 55, 40, 53, 44, 58, 44, 1, 27, 1, 737, 685, 544, 620, 564, 616, 575, 612], [0, 1, 30, 1, 61, 40, 51, 50, 64, 57, 48, 40, 1, 42, 47, 57, 54, 53, 48, 42, 51, 44, 58, 1, 48, 48, 48, 1, 30, 1, 0, 1, 0, 1, 58, 44, 53, 49, 134, 1, 53, 54, 1, 61, 40, 51, 50, 64, 57, 48, 40, 1, 20, 1, 27, 1, 60, 53, 57, 44, 42, 54, 57, 43, 44, 43, 1, 42, 47, 57, 54, 53, 48, 42, 51, 44, 58, 1, 9, 1, 49, 40, 55, 40, 53, 44, 58, 44, 1, 27, 1, 737, 685, 544, 620, 564, 616, 575, 612, 615], [1, 30, 1, 61, 40, 51, 50, 64, 57, 48, 40, 1, 42, 47, 57, 54, 53, 48, 42, 51, 44, 58, 1, 48, 48, 48, 1, 30, 1, 0, 1, 0, 1, 58, 44, 53, 49, 134, 1, 53, 54, 1, 61, 40, 51, 50, 64, 57, 48, 40, 1, 20, 1, 27, 1, 60, 53, 57, 44, 42, 54, 57, 43, 44, 43, 1, 42, 47, 57, 54, 53, 48, 42, 51, 44, 58, 1, 9, 1, 49, 40, 55, 40, 53, 44, 58, 44, 1, 27, 1, 737, 685, 544, 620, 564, 616, 575, 612, 615, 565], [30, 1, 61, 40, 51, 50, 64, 57, 48, 40, 1, 42, 47, 57, 54, 53, 48, 42, 51, 44, 58, 1, 48, 48, 48, 1, 30, 1, 0, 1, 0, 1, 58, 44, 53, 49, 134, 1, 53, 54, 1, 61, 40, 51, 50, 64, 57, 48, 40, 1, 20, 1, 27, 1, 60, 53, 57, 44, 42, 54, 57, 43, 44, 43, 1, 42, 47, 57, 54, 53, 48, 42, 51, 44, 58, 1, 9, 1, 49, 40, 55, 40, 53, 44, 58, 44, 1, 27, 1, 737, 685, 544, 620, 564, 616, 575, 612, 615, 565, 20], [1, 61, 40, 51, 50, 64, 57, 48, 40, 1, 42, 47, 57, 54, 53, 48, 42, 51, 44, 58, 1, 48, 48, 48, 1, 30, 1, 0, 1, 0, 1, 58, 44, 53, 49, 134, 1, 53, 54, 1, 61, 40, 51, 50, 64, 57, 48, 40, 1, 20, 1, 27, 1, 60, 53, 57, 44, 42, 54, 57, 43, 44, 43, 1, 42, 47, 57, 54, 53, 48, 42, 51, 44, 58, 1, 9, 1, 49, 40, 55, 40, 53, 44, 58, 44, 1, 27, 1, 737, 685, 544, 620, 564, 616, 575, 612, 615, 565, 20, 1]]\n",
            "the length of dataX is: 5\n",
            "[615, 565, 20, 1]\n",
            "the length of dataY is: 4\n",
            "This loops runs 352380 number of times\n",
            "Total Patterns:  840\n"
          ]
        }
      ],
      "source": [
        "# prepare the dataset of input to output pairs encoded as integers\n",
        "seq_length = 100\n",
        "dataX = []\n",
        "dataY = []\n",
        "count=0\n",
        "for i in range(0, num_characters - seq_length, 1):\n",
        "    count+=i\n",
        "    seq_in = text_data[i:i + seq_length]\n",
        "    seq_out = text_data[i + seq_length]\n",
        "    dataX.append([char_to_int[char] for char in seq_in])\n",
        "    if i< 5:\n",
        "      print(dataX)\n",
        "      print(\"the length of dataX is:\", len(dataX))\n",
        "      print(dataY)\n",
        "      print(\"the length of dataY is:\", len(dataY))\n",
        "    dataY.append(char_to_int[seq_out])\n",
        "\n",
        "print(f\"This loops runs {count} number of times\")\n",
        "n_patterns = len(dataX)\n",
        "print(\"Total Patterns: \", n_patterns)"
      ]
    },
    {
      "cell_type": "code",
      "execution_count": null,
      "metadata": {
        "id": "GzNTGiSIhvvG"
      },
      "outputs": [],
      "source": [
        "# TEST CODE\n",
        "\n",
        "# text_data = \"hello world, how are you doing today? This is a sample text for explanation.\"\n",
        "# seq_length= 50\n",
        "\n",
        "# print(len(text_data))\n",
        "# for i in range(0, len(text_data) - seq_length, 1):\n",
        "\n",
        "#     seq_in = text_data[i:i + seq_length]\n",
        "#     seq_out = text_data[i + seq_length]\n",
        "#         # Print seq_in and seq_out for the first few iterations\n",
        "#     # if i < 3:\n",
        "#     print(f\"Iteration {i + 1} - seq_in: '{seq_in}', seq_out: '{seq_out}'\")\n",
        "\n",
        "# OUTPUT::\n",
        "# Iteration 1 - seq_in: 'hello world, how are you doing today? This is a sa', seq_out: 'm'\n",
        "# Iteration 2 - seq_in: 'ello world, how are you doing today? This is a sam', seq_out: 'p'\n",
        "# Iteration 3 - seq_in: 'llo world, how are you doing today? This is a samp', seq_out: 'l'\n",
        "\n"
      ]
    },
    {
      "cell_type": "code",
      "execution_count": null,
      "metadata": {
        "colab": {
          "base_uri": "https://localhost:8080/"
        },
        "id": "n_4GIpVCfV0P",
        "outputId": "3e82561e-1446-4a50-99e4-244421f3a3ea"
      },
      "outputs": [
        {
          "name": "stdout",
          "output_type": "stream",
          "text": [
            "torch.Size([840, 100, 1]) torch.Size([840])\n"
          ]
        }
      ],
      "source": [
        "# reshape X to be [samples, time steps, features]\n",
        "X = torch.tensor(dataX, dtype=torch.float32).reshape(n_patterns, seq_length, 1)\n",
        "\n",
        "# normalizes the values in the tensor X by dividing each element by num_characters.\n",
        "X = X / float(num_characters)\n",
        "y = torch.tensor(dataY)\n",
        "print(X.shape, y.shape)"
      ]
    },
    {
      "cell_type": "code",
      "execution_count": null,
      "metadata": {
        "id": "vZnWp3BfkFVC"
      },
      "outputs": [],
      "source": [
        "class CharacterLM(nn.Module):\n",
        "  def __init__(self):\n",
        "    super().__init__()\n",
        "    # input_size=1. because the input is character-level data\n",
        "\n",
        "    self.lstm= nn.LSTM(input_size=1, hidden_size= 256, num_layers=1, batch_first=True)\n",
        "    self.dropout= nn.Dropout(0.2)\n",
        "    self.linear= nn.Linear(256, num_characters)\n",
        "\n",
        "  def forward(self, x):\n",
        "    x, _= self.lstm(x)\n",
        "    # -1 take the output corresponding to the last time step of each sequence in the batch.\n",
        "    #taking only last output\n",
        "    x= x[:, -1, :]\n",
        "    # producing output\n",
        "    x= self.linear(self.dropout(x))\n",
        "    return x\n",
        "\n"
      ]
    },
    {
      "cell_type": "code",
      "execution_count": null,
      "metadata": {
        "colab": {
          "base_uri": "https://localhost:8080/"
        },
        "id": "MONegGlZkeBG",
        "outputId": "59170c1d-717f-4323-ca30-fadcc0715547"
      },
      "outputs": [
        {
          "name": "stdout",
          "output_type": "stream",
          "text": [
            "Epoch 0: Crossentropy loss: 46.4051\n",
            "Epoch 1: Crossentropy loss: 24.8039\n",
            "Epoch 2: Crossentropy loss: 21.3184\n",
            "Epoch 3: Crossentropy loss: 21.0173\n",
            "Epoch 4: Crossentropy loss: 20.7599\n",
            "Epoch 5: Crossentropy loss: 20.8311\n",
            "Epoch 6: Crossentropy loss: 20.9289\n",
            "Epoch 7: Crossentropy loss: 20.9080\n",
            "Epoch 8: Crossentropy loss: 20.7282\n",
            "Epoch 9: Crossentropy loss: 20.7868\n"
          ]
        }
      ],
      "source": [
        "n_epochs= 10\n",
        "batch_size=128\n",
        "# intialize CharacterLM model\n",
        "model= CharacterLM()\n",
        "\n",
        "optimizer= optim.Adam(model.parameters())\n",
        "loss_function= nn.CrossEntropyLoss()\n",
        "loader= data.DataLoader(data.TensorDataset(X, y), shuffle=True, batch_size=batch_size)\n",
        "\n",
        "best_model= None\n",
        "best_loss= 1000\n",
        "\n",
        "for epoch in range(n_epochs):\n",
        "  model.train()\n",
        "  for X_batch, y_batch in loader:\n",
        "    y_pred= model(X_batch)\n",
        "    loss= loss_function(y_pred, y_batch)\n",
        "    optimizer.zero_grad()\n",
        "    loss.backward()\n",
        "    optimizer.step()\n",
        "\n",
        "  # validation\n",
        "  model.eval()\n",
        "  loss= 0\n",
        "  with torch.no_grad():\n",
        "    for X_batch, y_batch in loader:\n",
        "      y_pred= model(X_batch)\n",
        "      loss+= loss_function(y_pred, y_batch)\n",
        "\n",
        "    if loss < best_loss:\n",
        "      best_loss= loss\n",
        "      best_model= model.state_dict()\n",
        "    print(\"Epoch %d: Crossentropy loss: %.4f\" % (epoch,loss))\n",
        "\n",
        "torch.save([best_model, char_to_int], \"single-character-model.pth\")"
      ]
    },
    {
      "cell_type": "code",
      "execution_count": null,
      "metadata": {
        "id": "oew5J7cIDTwU"
      },
      "outputs": [],
      "source": [
        "char_to_int= dict((c, i) for i, c in enumerate(char_list))"
      ]
    },
    {
      "cell_type": "code",
      "execution_count": null,
      "metadata": {
        "colab": {
          "base_uri": "https://localhost:8080/"
        },
        "id": "-U_uHSfdklcr",
        "outputId": "db52b354-5167-43bf-8712-532406428115"
      },
      "outputs": [
        {
          "name": "stdout",
          "output_type": "stream",
          "text": [
            "                                                                                                                                                                                                                                                                                                                                                                                                                                                                                                                                                                                                                                                                                                                                                                                                                                                                                                                                                                                                                                        \n",
            "Finished!!!!!!!!!!!!!!!!!\n"
          ]
        }
      ],
      "source": [
        "import numpy as np\n",
        "\n",
        "best_model, char_to_int= torch.load('single-character-model.pth')\n",
        "int_to_char= dict((i, c) for c, i in char_to_int.items())\n",
        "\n",
        "# reloading the saved model\n",
        "class CharacterLM(nn.Module):\n",
        "  def __init__(self):\n",
        "    super().__init__()\n",
        "    self.lstm= nn.LSTM(input_size=1, hidden_size=256, num_layers=1, batch_first=True)\n",
        "    self.Dropout= nn.Dropout(0.2)\n",
        "    self.linear= nn.Linear(256, num_characters)\n",
        "\n",
        "  def forward(self, x):\n",
        "    x, _= self.lstm(x)\n",
        "\n",
        "    # takes only the last output:\n",
        "    x= x[:, -1, :]\n",
        "    x= self.Linear(self.dropout(x))\n",
        "    return x\n",
        "\n",
        "lmodel= CharacterLM()\n",
        "lmodel.load_state_dict(best_model)\n",
        "\n",
        "prompt= \"i want to play the \"\n",
        "pattern= [char_to_int[c] for c in prompt]\n",
        "\n",
        "model.eval()\n",
        "with torch.no_grad():\n",
        "  for i in range(1000):\n",
        "    x= np.reshape(pattern, (1, len(pattern), 1)) /float(num_characters)\n",
        "    x= torch.tensor(x, dtype=torch.float32)\n",
        "\n",
        "    # generate logits as output from the model\n",
        "    prediction= model(x)\n",
        "\n",
        "    # convert logits into one character\n",
        "    index= int(prediction.argmax())\n",
        "    result= int_to_char[index]\n",
        "\n",
        "    print(result, end=\"\")\n",
        "\n",
        "    # append the new character into the prompt for the next iteration\n",
        "    pattern.append(index)\n",
        "    pattern= pattern[1:]\n",
        "\n",
        "print(\"\\nFinished!!!!!!!!!!!!!!!!!\")"
      ]
    },
    {
      "cell_type": "code",
      "execution_count": null,
      "metadata": {
        "id": "NEw1uzuJ_jPg"
      },
      "outputs": [],
      "source": []
    },
    {
      "cell_type": "code",
      "execution_count": null,
      "metadata": {
        "id": "rX_i5uJamNkJ"
      },
      "outputs": [],
      "source": []
    },
    {
      "cell_type": "code",
      "execution_count": null,
      "metadata": {
        "id": "oAe8-z1tmNg1"
      },
      "outputs": [],
      "source": [
        "def load_data(file_path):\n",
        "    with open(file_path, 'r', encoding='utf-8') as file:\n",
        "        text = file.read()\n",
        "    return text.lower()\n",
        "\n",
        "\n",
        "# Load the data\n",
        "file_path = 'wiki.train.raw'\n",
        "text_data = load_data(file_path)"
      ]
    },
    {
      "cell_type": "code",
      "execution_count": null,
      "metadata": {
        "id": "5UZmqtX1mNez"
      },
      "outputs": [],
      "source": [
        "from tqdm import tqdm\n",
        "\n",
        "def load_data(filename, seq_length):\n",
        "    raw_text = open(filename, 'r', encoding='utf-8').read().lower()\n",
        "    chars = sorted(list(set(raw_text)))\n",
        "    char_to_int = {c: i for i, c in enumerate(chars)}\n",
        "    dataX, dataY = [], []\n",
        "    for i in range(0, len(raw_text) - seq_length):\n",
        "        seq_in = raw_text[i:i + seq_length]\n",
        "        seq_out = raw_text[i + seq_length]\n",
        "        dataX.append([char_to_int[char] for char in seq_in])\n",
        "        dataY.append(char_to_int[seq_out])\n",
        "    return dataX, dataY, char_to_int, len(chars), raw_text\n",
        "\n",
        "class CharModel(nn.Module):\n",
        "    def __init__(self, input_size, hidden_size, num_layers, output_size, dropout_rate):\n",
        "        super(CharModel, self).__init__()\n",
        "        self.lstm = nn.LSTM(input_size, hidden_size, num_layers, batch_first=True, dropout=dropout_rate)\n",
        "        self.dropout = nn.Dropout(dropout_rate)\n",
        "        self.linear = nn.Linear(hidden_size, output_size)\n",
        "\n",
        "    def forward(self, x):\n",
        "        x, _ = self.lstm(x)\n",
        "        x = x[:, -1, :]\n",
        "        x = self.linear(self.dropout(x))\n",
        "        return x\n",
        "\n",
        "\n",
        "def train_model(model, data_loader, optimizer, loss_fn, n_epochs, checkpoint_path=\"model_checkpoint.pth\"):\n",
        "    \"\"\"\n",
        "    Trains the model and saves checkpoints every 5 epochs.\n",
        "\n",
        "    Parameters:\n",
        "    - model: The PyTorch model to train.\n",
        "    - data_loader: DataLoader for the training data.\n",
        "    - optimizer: Optimizer for the model's parameters.\n",
        "    - loss_fn: Loss function to use for training.\n",
        "    - n_epochs: Number of epochs to train for.\n",
        "    - checkpoint_path: Base path for saving model checkpoints.\n",
        "\n",
        "    Returns:\n",
        "    - The state dictionary of the best model.\n",
        "    \"\"\"\n",
        "    best_model_wts = None\n",
        "    best_loss = np.inf\n",
        "    total_batches = len(data_loader)\n",
        "\n",
        "    for epoch in range(1, n_epochs + 1):\n",
        "        model.train()\n",
        "        running_loss = 0.0\n",
        "        batch_progress = tqdm(enumerate(data_loader, 1), total=total_batches, desc=f\"Epoch {epoch}/{n_epochs}\")\n",
        "\n",
        "        for batch_idx, (X_batch, y_batch) in batch_progress:\n",
        "            optimizer.zero_grad()\n",
        "            y_pred = model(X_batch)\n",
        "            loss = loss_fn(y_pred, y_batch)\n",
        "            loss.backward()\n",
        "            optimizer.step()\n",
        "\n",
        "            running_loss += loss.item()\n",
        "            batch_progress.set_postfix({'Batch Loss': loss.item()})\n",
        "\n",
        "        epoch_loss = running_loss / total_batches\n",
        "        print(f'\\nEpoch {epoch} Average Loss: {epoch_loss:.4f}')\n",
        "\n",
        "        # Update best model if current epoch loss is lower\n",
        "        if epoch_loss < best_loss:\n",
        "            best_loss = epoch_loss\n",
        "            best_model_wts = model.state_dict()\n",
        "            print(f\"New best model found at epoch {epoch} with loss {epoch_loss:.4f}\")\n",
        "\n",
        "        # Save checkpoint every 5 epochs\n",
        "        if epoch % 5 == 0:\n",
        "            checkpoint_filename = f\"{checkpoint_path}_epoch_{epoch}.pth\"\n",
        "            torch.save({\n",
        "                'epoch': epoch,\n",
        "                'model_state_dict': model.state_dict(),\n",
        "                'optimizer_state_dict': optimizer.state_dict(),\n",
        "                'loss': epoch_loss,\n",
        "            }, checkpoint_filename)\n",
        "            print(f\"Checkpoint saved at '{checkpoint_filename}'\")\n",
        "\n",
        "    return best_model_wts\n",
        "\n",
        "def generate_text(model, start_prompt, char_to_int, int_to_char, n_vocab, generate_length=1000):\n",
        "    model.eval()\n",
        "    pattern = [char_to_int[c] for c in start_prompt.lower()]\n",
        "    print('Prompt: \"%s\"' % start_prompt)\n",
        "    with torch.no_grad():\n",
        "        for i in range(generate_length):\n",
        "            x = np.reshape(pattern, (1, len(pattern), 1)) / float(n_vocab)\n",
        "            x = torch.tensor(x, dtype=torch.float32)\n",
        "            prediction = model(x)\n",
        "            index = prediction.argmax().item()\n",
        "            print(int_to_char[index], end=\"\")\n",
        "            pattern.append(index)\n",
        "            pattern = pattern[1:]\n",
        "    print(\"\\nDone.\")\n"
      ]
    },
    {
      "cell_type": "code",
      "execution_count": null,
      "metadata": {
        "id": "NgKWuJu20Ib_"
      },
      "outputs": [],
      "source": [
        "torch.cuda.empty_cache()"
      ]
    },
    {
      "cell_type": "code",
      "execution_count": null,
      "metadata": {
        "id": "2khoozA36zTX"
      },
      "outputs": [],
      "source": [
        "import numpy as np"
      ]
    },
    {
      "cell_type": "code",
      "execution_count": null,
      "metadata": {
        "colab": {
          "background_save": true,
          "base_uri": "https://localhost:8080/"
        },
        "id": "wY-mPw1nmNcT",
        "outputId": "578e40ac-d062-4a42-f781-f226cdcad0ac"
      },
      "outputs": [
        {
          "name": "stderr",
          "output_type": "stream",
          "text": [
            ""
          ]
        },
        {
          "name": "stdout",
          "output_type": "stream",
          "text": [
            "Epoch 1/50 Train Loss: 3.1397 Val Loss: 2.9849\n"
          ]
        },
        {
          "name": "stderr",
          "output_type": "stream",
          "text": [
            ""
          ]
        },
        {
          "name": "stdout",
          "output_type": "stream",
          "text": [
            "Epoch 2/50 Train Loss: 2.9477 Val Loss: 2.9777\n"
          ]
        },
        {
          "name": "stderr",
          "output_type": "stream",
          "text": [
            ""
          ]
        },
        {
          "name": "stdout",
          "output_type": "stream",
          "text": [
            "Epoch 3/50 Train Loss: 2.9534 Val Loss: 2.9764\n"
          ]
        },
        {
          "name": "stderr",
          "output_type": "stream",
          "text": [
            ""
          ]
        },
        {
          "name": "stdout",
          "output_type": "stream",
          "text": [
            "Epoch 4/50 Train Loss: 2.9457 Val Loss: 2.9776\n"
          ]
        },
        {
          "name": "stderr",
          "output_type": "stream",
          "text": [
            ""
          ]
        },
        {
          "name": "stdout",
          "output_type": "stream",
          "text": [
            "Epoch 5/50 Train Loss: 2.9339 Val Loss: 2.9779\n",
            "Checkpoint saved at '/content/model_checkpoint_epoch_5.pth'\n"
          ]
        },
        {
          "name": "stderr",
          "output_type": "stream",
          "text": [
            ""
          ]
        },
        {
          "name": "stdout",
          "output_type": "stream",
          "text": [
            "Epoch 6/50 Train Loss: 2.9410 Val Loss: 2.9782\n"
          ]
        },
        {
          "name": "stderr",
          "output_type": "stream",
          "text": [
            ""
          ]
        },
        {
          "name": "stdout",
          "output_type": "stream",
          "text": [
            "Epoch 7/50 Train Loss: 2.9382 Val Loss: 2.9745\n"
          ]
        },
        {
          "name": "stderr",
          "output_type": "stream",
          "text": [
            ""
          ]
        },
        {
          "name": "stdout",
          "output_type": "stream",
          "text": [
            "Epoch 8/50 Train Loss: 2.9350 Val Loss: 2.9777\n"
          ]
        },
        {
          "name": "stderr",
          "output_type": "stream",
          "text": [
            ""
          ]
        },
        {
          "name": "stdout",
          "output_type": "stream",
          "text": [
            "Epoch 9/50 Train Loss: 2.9376 Val Loss: 2.9754\n"
          ]
        },
        {
          "name": "stderr",
          "output_type": "stream",
          "text": [
            ""
          ]
        },
        {
          "name": "stdout",
          "output_type": "stream",
          "text": [
            "Epoch 10/50 Train Loss: 2.9364 Val Loss: 2.9775\n",
            "Checkpoint saved at '/content/model_checkpoint_epoch_10.pth'\n"
          ]
        },
        {
          "name": "stderr",
          "output_type": "stream",
          "text": [
            ""
          ]
        },
        {
          "name": "stdout",
          "output_type": "stream",
          "text": [
            "Epoch 11/50 Train Loss: 2.9397 Val Loss: 2.9761\n"
          ]
        },
        {
          "name": "stderr",
          "output_type": "stream",
          "text": [
            ""
          ]
        },
        {
          "name": "stdout",
          "output_type": "stream",
          "text": [
            "Epoch 12/50 Train Loss: 2.9332 Val Loss: 2.9733\n"
          ]
        },
        {
          "name": "stderr",
          "output_type": "stream",
          "text": [
            ""
          ]
        },
        {
          "name": "stdout",
          "output_type": "stream",
          "text": [
            "Epoch 13/50 Train Loss: 2.9397 Val Loss: 2.9766\n"
          ]
        },
        {
          "name": "stderr",
          "output_type": "stream",
          "text": [
            ""
          ]
        },
        {
          "name": "stdout",
          "output_type": "stream",
          "text": [
            "Epoch 14/50 Train Loss: 2.9370 Val Loss: 2.9738\n"
          ]
        },
        {
          "name": "stderr",
          "output_type": "stream",
          "text": [
            ""
          ]
        },
        {
          "name": "stdout",
          "output_type": "stream",
          "text": [
            "Epoch 15/50 Train Loss: 2.9439 Val Loss: 2.9751\n",
            "Checkpoint saved at '/content/model_checkpoint_epoch_15.pth'\n"
          ]
        },
        {
          "name": "stderr",
          "output_type": "stream",
          "text": [
            ""
          ]
        },
        {
          "name": "stdout",
          "output_type": "stream",
          "text": [
            "Epoch 16/50 Train Loss: 2.9317 Val Loss: 2.9755\n"
          ]
        },
        {
          "name": "stderr",
          "output_type": "stream",
          "text": [
            ""
          ]
        },
        {
          "name": "stdout",
          "output_type": "stream",
          "text": [
            "Epoch 17/50 Train Loss: 2.9323 Val Loss: 2.9739\n"
          ]
        },
        {
          "name": "stderr",
          "output_type": "stream",
          "text": [
            ""
          ]
        },
        {
          "name": "stdout",
          "output_type": "stream",
          "text": [
            "Epoch 18/50 Train Loss: 2.9334 Val Loss: 2.9775\n"
          ]
        },
        {
          "name": "stderr",
          "output_type": "stream",
          "text": [
            ""
          ]
        },
        {
          "name": "stdout",
          "output_type": "stream",
          "text": [
            "Epoch 19/50 Train Loss: 2.9410 Val Loss: 2.9715\n"
          ]
        },
        {
          "name": "stderr",
          "output_type": "stream",
          "text": [
            ""
          ]
        },
        {
          "name": "stdout",
          "output_type": "stream",
          "text": [
            "Epoch 20/50 Train Loss: 2.9322 Val Loss: 2.9735\n",
            "Checkpoint saved at '/content/model_checkpoint_epoch_20.pth'\n"
          ]
        },
        {
          "name": "stderr",
          "output_type": "stream",
          "text": [
            ""
          ]
        },
        {
          "name": "stdout",
          "output_type": "stream",
          "text": [
            "Epoch 21/50 Train Loss: 2.9328 Val Loss: 2.9734\n"
          ]
        },
        {
          "name": "stderr",
          "output_type": "stream",
          "text": [
            ""
          ]
        },
        {
          "name": "stdout",
          "output_type": "stream",
          "text": [
            "Epoch 22/50 Train Loss: 2.9327 Val Loss: 2.9770\n"
          ]
        },
        {
          "name": "stderr",
          "output_type": "stream",
          "text": [
            ""
          ]
        },
        {
          "name": "stdout",
          "output_type": "stream",
          "text": [
            "Epoch 23/50 Train Loss: 2.9338 Val Loss: 2.9740\n"
          ]
        },
        {
          "name": "stderr",
          "output_type": "stream",
          "text": [
            ""
          ]
        },
        {
          "name": "stdout",
          "output_type": "stream",
          "text": [
            "Epoch 24/50 Train Loss: 2.9292 Val Loss: 2.9728\n"
          ]
        },
        {
          "name": "stderr",
          "output_type": "stream",
          "text": [
            ""
          ]
        },
        {
          "name": "stdout",
          "output_type": "stream",
          "text": [
            "Epoch 25/50 Train Loss: 2.9377 Val Loss: 2.9734\n",
            "Checkpoint saved at '/content/model_checkpoint_epoch_25.pth'\n"
          ]
        },
        {
          "name": "stderr",
          "output_type": "stream",
          "text": [
            "Epoch 26/50 [Train]:  77%|███████▋  | 17/22 [05:08<01:31, 18.26s/it, Batch Loss=2.89]"
          ]
        }
      ],
      "source": [
        "def main():\n",
        "    filename = \"wonderland.txt\"\n",
        "    seq_length = 100\n",
        "    # Assuming load_data returns raw_text as the last item for prompt generation\n",
        "    dataX, dataY, char_to_int, n_vocab, raw_text = load_data(filename, seq_length)\n",
        "\n",
        "    X = torch.tensor(dataX, dtype=torch.float32).reshape(-1, seq_length, 1) / float(n_vocab)\n",
        "    y = torch.tensor(dataY)\n",
        "    data_loader = data.DataLoader(data.TensorDataset(X, y), batch_size=512, shuffle=True)\n",
        "\n",
        "    model = CharModel(1, 256, 10, n_vocab, 0.2)\n",
        "    optimizer = optim.Adam(model.parameters(), lr=0.001)\n",
        "    loss_fn = nn.CrossEntropyLoss()\n",
        "\n",
        "    # Specify the directory where you want to save the checkpoints\n",
        "    checkpoint_dir = \"/content/model_checkpoint\"\n",
        "    best_model_wts = train_model(model, data_loader, optimizer, loss_fn, 50, checkpoint_dir)\n",
        "\n",
        "    # Save the best model weights and char_to_int mapping\n",
        "    torch.save([best_model_wts, char_to_int], \"complex_single-char.pth\")\n",
        "\n",
        "if __name__ == \"__main__\":\n",
        "    main()\n"
      ]
    },
    {
      "cell_type": "code",
      "execution_count": null,
      "metadata": {
        "id": "0ajaWJXDuAsm"
      },
      "outputs": [],
      "source": [
        "import numpy as np\n",
        "import torch\n",
        "\n",
        "def inference(model, start_prompt, char_to_int, int_to_char, n_vocab, generate_length=1000):\n",
        "    \"\"\"\n",
        "    Generate text from a trained character-level RNN model.\n",
        "\n",
        "    Parameters:\n",
        "    - model: The trained PyTorch model for character-level text generation.\n",
        "    - start_prompt: The starting text prompt for text generation.\n",
        "    - char_to_int: Dictionary mapping characters to integers.\n",
        "    - int_to_char: Dictionary mapping integers back to characters.\n",
        "    - n_vocab: The size of the vocabulary (number of unique characters).\n",
        "    - generate_length: Optional; Number of characters to generate.\n",
        "\n",
        "    Returns:\n",
        "    - Generated text as a string.\n",
        "    \"\"\"\n",
        "\n",
        "    # Ensure model is in evaluation mode\n",
        "    model.eval()\n",
        "\n",
        "    # Initialize the pattern from the start prompt\n",
        "    pattern = [char_to_int[c] for c in start_prompt.lower()]\n",
        "\n",
        "    # Store the generated text\n",
        "    generated_text = start_prompt\n",
        "\n",
        "    with torch.no_grad():\n",
        "        for i in range(generate_length):\n",
        "            # Prepare the input tensor\n",
        "            x = np.reshape(pattern, (1, len(pattern), 1)) / float(n_vocab)\n",
        "            x = torch.tensor(x, dtype=torch.float32)\n",
        "\n",
        "            # Generate logits\n",
        "            prediction = model(x)\n",
        "\n",
        "            # Convert logits to next character index and update the pattern\n",
        "            index = prediction.argmax().item()\n",
        "            next_char = int_to_char[index]\n",
        "            generated_text += next_char\n",
        "\n",
        "            pattern.append(index)\n",
        "            pattern = pattern[1:]  # Move the window for the next character\n",
        "\n",
        "    return generated_text\n",
        "\n",
        "# Assuming model, char_to_int, int_to_char, and n_vocab are already defined and loaded\n",
        "\n",
        "start_prompt = \"The adventures of \"\n",
        "generated_text = inference(model, start_prompt, char_to_int, int_to_char, n_vocab, generate_length=200)\n",
        "\n",
        "print(\"Generated Text:\")\n",
        "print(generated_text)"
      ]
    },
    {
      "cell_type": "code",
      "execution_count": null,
      "metadata": {
        "colab": {
          "base_uri": "https://localhost:8080/",
          "height": 193
        },
        "id": "VC7q7AhB_kqJ",
        "outputId": "e1563e72-b64c-4bf6-81cd-516f9deb63c1"
      },
      "outputs": [
        {
          "ename": "NameError",
          "evalue": "name 'model' is not defined",
          "output_type": "error",
          "traceback": [
            "\u001b[0;31m---------------------------------------------------------------------------\u001b[0m",
            "\u001b[0;31mNameError\u001b[0m                                 Traceback (most recent call last)",
            "\u001b[0;32m<ipython-input-15-395a482bc640>\u001b[0m in \u001b[0;36m<cell line: 35>\u001b[0;34m()\u001b[0m\n\u001b[1;32m     33\u001b[0m \u001b[0mloss_fn\u001b[0m \u001b[0;34m=\u001b[0m \u001b[0mnn\u001b[0m\u001b[0;34m.\u001b[0m\u001b[0mCrossEntropyLoss\u001b[0m\u001b[0;34m(\u001b[0m\u001b[0;34m)\u001b[0m\u001b[0;34m\u001b[0m\u001b[0;34m\u001b[0m\u001b[0m\n\u001b[1;32m     34\u001b[0m \u001b[0;34m\u001b[0m\u001b[0m\n\u001b[0;32m---> 35\u001b[0;31m \u001b[0mavg_loss\u001b[0m\u001b[0;34m,\u001b[0m \u001b[0maccuracy\u001b[0m\u001b[0;34m,\u001b[0m \u001b[0mperplexity\u001b[0m \u001b[0;34m=\u001b[0m \u001b[0mevaluate_model\u001b[0m\u001b[0;34m(\u001b[0m\u001b[0mmodel\u001b[0m\u001b[0;34m,\u001b[0m \u001b[0mtest_loader\u001b[0m\u001b[0;34m,\u001b[0m \u001b[0mloss_fn\u001b[0m\u001b[0;34m)\u001b[0m\u001b[0;34m\u001b[0m\u001b[0;34m\u001b[0m\u001b[0m\n\u001b[0m\u001b[1;32m     36\u001b[0m \u001b[0mprint\u001b[0m\u001b[0;34m(\u001b[0m\u001b[0;34mf\"Loss: {avg_loss}, Accuracy: {accuracy}, Perplexity: {perplexity}\"\u001b[0m\u001b[0;34m)\u001b[0m\u001b[0;34m\u001b[0m\u001b[0;34m\u001b[0m\u001b[0m\n",
            "\u001b[0;31mNameError\u001b[0m: name 'model' is not defined"
          ]
        }
      ],
      "source": [
        "def evaluate_model(model, test_loader, loss_fn):\n",
        "    model.eval()\n",
        "    total_loss = 0\n",
        "    correct_predictions = 0\n",
        "    total_characters = 0\n",
        "\n",
        "    with torch.no_grad():\n",
        "        for X_batch, y_batch in test_loader:\n",
        "            output = model(X_batch)\n",
        "            loss = loss_fn(output, y_batch)\n",
        "            total_loss += loss.item()\n",
        "\n",
        "            _, predicted = torch.max(output, dim=1)\n",
        "            correct_predictions += (predicted == y_batch).sum().item()\n",
        "            total_characters += y_batch.size(0)\n",
        "\n",
        "    avg_loss = total_loss / len(test_loader.dataset)\n",
        "    accuracy = correct_predictions / total_characters\n",
        "    perplexity = np.exp(avg_loss)\n",
        "\n",
        "    return avg_loss, accuracy, perplexity\n",
        "\n",
        "\n",
        "filename = \"wonderland.txt\"\n",
        "seq_length = 100\n",
        "dataX, dataY, char_to_int, n_vocab, raw_text = load_data(filename, seq_length)\n",
        "\n",
        "X = torch.tensor(dataX, dtype=torch.float32).reshape(-1, seq_length, 1) / float(n_vocab)\n",
        "y = torch.tensor(dataY)\n",
        "test_loader = data.DataLoader(data.TensorDataset(X, y), batch_size=128, shuffle=True)\n",
        "# Assuming you have a DataLoader for your test dataset\n",
        "# test_loader = DataLoader(test_dataset, batch_size=batch_size, shuffle=False)\n",
        "loss_fn = nn.CrossEntropyLoss()\n",
        "\n",
        "avg_loss, accuracy, perplexity = evaluate_model(model, test_loader, loss_fn)\n",
        "print(f\"Loss: {avg_loss}, Accuracy: {accuracy}, Perplexity: {perplexity}\")\n"
      ]
    },
    {
      "cell_type": "code",
      "execution_count": null,
      "metadata": {
        "id": "LmIDFX6vwM0c"
      },
      "outputs": [],
      "source": []
    }
  ],
  "metadata": {
    "colab": {
      "provenance": []
    },
    "kernelspec": {
      "display_name": "Python 3",
      "name": "python3"
    },
    "language_info": {
      "name": "python"
    }
  },
  "nbformat": 4,
  "nbformat_minor": 0
}