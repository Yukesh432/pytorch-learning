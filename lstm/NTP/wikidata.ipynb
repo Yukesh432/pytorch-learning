{
 "cells": [
  {
   "cell_type": "code",
   "execution_count": 15,
   "metadata": {},
   "outputs": [],
   "source": [
    "# with open('wiki.train.raw', 'r', encoding='utf-8') as file:\n",
    "#     data = file.read()\n",
    "#     print(data)\n",
    "#     print(type(data))\n"
   ]
  },
  {
   "cell_type": "code",
   "execution_count": 20,
   "metadata": {},
   "outputs": [],
   "source": [
    "import nltk\n",
    "import wikidata"
   ]
  },
  {
   "cell_type": "code",
   "execution_count": 2,
   "metadata": {},
   "outputs": [
    {
     "name": "stdout",
     "output_type": "stream",
     "text": [
      "WARNING:tensorflow:From c:\\Users\\AIXI\\anaconda3\\envs\\newenv\\lib\\site-packages\\keras\\src\\losses.py:2976: The name tf.losses.sparse_softmax_cross_entropy is deprecated. Please use tf.compat.v1.losses.sparse_softmax_cross_entropy instead.\n",
      "\n",
      "{'input_ids': tensor([[    0, 31414,     6,   232,   328,   939,   524,   259,     7,  1296,\n",
      "             5,  8047,     9,    42, 19233,  6315,   215,    14,    24,  2607,\n",
      "           162,     4,     2]]), 'attention_mask': tensor([[1, 1, 1, 1, 1, 1, 1, 1, 1, 1, 1, 1, 1, 1, 1, 1, 1, 1, 1, 1, 1, 1, 1]])}\n"
     ]
    }
   ],
   "source": [
    "from transformers import RobertaTokenizer\n",
    "\n",
    "# Load the pre-trained 'roberta-base' tokenizer\n",
    "tokenizer = RobertaTokenizer.from_pretrained('roberta-base')\n",
    "\n",
    "# Now you can use the tokenizer\n",
    "text = \"Hello, world! i am here to test the functions of this tokenizer such that it helps me.\"\n",
    "encoded_input = tokenizer(text, return_tensors='pt')\n",
    "\n",
    "print(encoded_input)"
   ]
  },
  {
   "cell_type": "code",
   "execution_count": 3,
   "metadata": {},
   "outputs": [
    {
     "name": "stdout",
     "output_type": "stream",
     "text": [
      "['Hello', ',', 'Ġworld', '!', 'Ġi', 'Ġam', 'Ġhere', 'Ġto', 'Ġtest', 'Ġthe', 'Ġfunctions', 'Ġof', 'Ġthis', 'Ġtoken', 'izer', 'Ġsuch', 'Ġthat', 'Ġit', 'Ġhelps', 'Ġme', '.']\n"
     ]
    }
   ],
   "source": [
    "tokens= tokenizer.tokenize(text)\n",
    "print(tokens)"
   ]
  },
  {
   "cell_type": "code",
   "execution_count": 4,
   "metadata": {},
   "outputs": [
    {
     "name": "stdout",
     "output_type": "stream",
     "text": [
      "{'!': 0, 'Ġthis': 1, 'Ġi': 2, 'Ġthe': 3, 'Ġworld': 4, 'Ġhelps': 5, 'Ġthat': 6, 'Ġtoken': 7, 'Ġam': 8, 'izer': 9, 'Ġto': 10, 'Ġit': 11, 'Hello': 12, 'Ġof': 13, ',': 14, 'Ġfunctions': 15, 'Ġhere': 16, 'Ġsuch': 17, 'Ġtest': 18, '.': 19, 'Ġme': 20, '<UNK>': 21}\n",
      ".................................\n",
      "{0: '!', 1: 'Ġthis', 2: 'Ġi', 3: 'Ġthe', 4: 'Ġworld', 5: 'Ġhelps', 6: 'Ġthat', 7: 'Ġtoken', 8: 'Ġam', 9: 'izer', 10: 'Ġto', 11: 'Ġit', 12: 'Hello', 13: 'Ġof', 14: ',', 15: 'Ġfunctions', 16: 'Ġhere', 17: 'Ġsuch', 18: 'Ġtest', 19: '.', 20: 'Ġme', 21: '<UNK>'}\n"
     ]
    }
   ],
   "source": [
    "def build_vocab(tokens, add_unknown=True):\n",
    "    vocab = set(tokens)\n",
    "    if add_unknown:\n",
    "        vocab.add('<UNK>')\n",
    "    token_to_index = {token: idx for idx, token in enumerate(vocab)}\n",
    "    index_to_token = {idx: token for token, idx in token_to_index.items()}\n",
    "    return token_to_index, index_to_token\n",
    "\n",
    "token_to_index, index_to_token= build_vocab(tokens, add_unknown=True)\n",
    "print(token_to_index)\n",
    "print(\".................................\")\n",
    "print(index_to_token)"
   ]
  },
  {
   "cell_type": "code",
   "execution_count": 5,
   "metadata": {},
   "outputs": [],
   "source": [
    "# Function to build a vocabulary from tokens\n",
    "def build_vocab(tokens):\n",
    "    vocab = set(tokens)\n",
    "    vocab.add('<UNK>')  # Add a special token for unknown words\n",
    "    token_to_index = {token: idx for idx, token in enumerate(vocab)}\n",
    "    index_to_token = {idx: token for token, idx in token_to_index.items()}\n",
    "    return token_to_index, index_to_token\n"
   ]
  },
  {
   "cell_type": "code",
   "execution_count": 11,
   "metadata": {},
   "outputs": [],
   "source": [
    "# Build the vocabulary\n",
    "token_to_index, index_to_token = build_vocab(tokens)"
   ]
  },
  {
   "cell_type": "code",
   "execution_count": 6,
   "metadata": {},
   "outputs": [],
   "source": [
    "vocab_size = len(token_to_index)"
   ]
  },
  {
   "cell_type": "code",
   "execution_count": 7,
   "metadata": {},
   "outputs": [
    {
     "name": "stdout",
     "output_type": "stream",
     "text": [
      "22\n"
     ]
    }
   ],
   "source": [
    "print(vocab_size)"
   ]
  },
  {
   "cell_type": "code",
   "execution_count": 8,
   "metadata": {},
   "outputs": [],
   "source": [
    "# Function to convert tokens to indices\n",
    "def tokens_to_indices(tokens, token_to_index):\n",
    "    return [token_to_index[token] for token in tokens]"
   ]
  },
  {
   "cell_type": "code",
   "execution_count": 9,
   "metadata": {},
   "outputs": [
    {
     "name": "stdout",
     "output_type": "stream",
     "text": [
      "[12, 14, 4, 0, 2, 8, 16, 10, 18, 3, 15, 13, 1, 7, 9, 17, 6, 11, 5, 20, 19]\n"
     ]
    }
   ],
   "source": [
    "# Function to create sequences for training\n",
    "def create_sequences(token_indices, seq_length):\n",
    "    sequences = [token_indices[i:i + seq_length] for i in range(len(token_indices) - seq_length)]\n",
    "    return sequences\n",
    "\n",
    "token_indices= tokens_to_indices(tokens, token_to_index)\n",
    "# sequencess= create_sequences(token_indices, seq_length=5)\n",
    "print(token_indices)"
   ]
  },
  {
   "cell_type": "code",
   "execution_count": 12,
   "metadata": {},
   "outputs": [
    {
     "name": "stdout",
     "output_type": "stream",
     "text": [
      "[[12, 14, 4, 0, 2], [14, 4, 0, 2, 8], [4, 0, 2, 8, 16], [0, 2, 8, 16, 10], [2, 8, 16, 10, 18], [8, 16, 10, 18, 3], [16, 10, 18, 3, 15], [10, 18, 3, 15, 13], [18, 3, 15, 13, 1], [3, 15, 13, 1, 7], [15, 13, 1, 7, 9], [13, 1, 7, 9, 17], [1, 7, 9, 17, 6], [7, 9, 17, 6, 11], [9, 17, 6, 11, 5], [17, 6, 11, 5, 20]]\n"
     ]
    }
   ],
   "source": [
    "def create_sequences(token_indices, seq_length):\n",
    "    sequences = [token_indices[i:i + seq_length] for i in range(len(token_indices) - seq_length)]\n",
    "    return sequences\n",
    "\n",
    "sequences= create_sequences(token_indices, seq_length=5)\n",
    "print(sequences)"
   ]
  },
  {
   "cell_type": "code",
   "execution_count": 14,
   "metadata": {},
   "outputs": [
    {
     "name": "stdout",
     "output_type": "stream",
     "text": [
      "[[12, 14, 4, 0], [14, 4, 0, 2], [4, 0, 2, 8], [0, 2, 8, 16], [2, 8, 16, 10], [8, 16, 10, 18], [16, 10, 18, 3], [10, 18, 3, 15], [18, 3, 15, 13], [3, 15, 13, 1], [15, 13, 1, 7], [13, 1, 7, 9], [1, 7, 9, 17], [7, 9, 17, 6], [9, 17, 6, 11], [17, 6, 11, 5]]\n",
      "......................\n",
      "[[14, 4, 0, 2], [4, 0, 2, 8], [0, 2, 8, 16], [2, 8, 16, 10], [8, 16, 10, 18], [16, 10, 18, 3], [10, 18, 3, 15], [18, 3, 15, 13], [3, 15, 13, 1], [15, 13, 1, 7], [13, 1, 7, 9], [1, 7, 9, 17], [7, 9, 17, 6], [9, 17, 6, 11], [17, 6, 11, 5], [6, 11, 5, 20]]\n"
     ]
    }
   ],
   "source": [
    "# Function to prepare training data\n",
    "def prepare_training_data(sequences, seq_length):\n",
    "    # Ensure that inputs and targets are of the same length\n",
    "    inputs = [sequence[:-1] for sequence in sequences]  # Exclude the last token for input\n",
    "    targets = [sequence[1:] for sequence in sequences]  # Exclude the first token for target\n",
    "    return inputs, targets\n",
    "\n",
    "\n",
    "inputs, targets= prepare_training_data(sequences, seq_length=5)\n",
    "print(inputs)\n",
    "print(\"......................\")\n",
    "print(targets)"
   ]
  },
  {
   "cell_type": "code",
   "execution_count": null,
   "metadata": {},
   "outputs": [],
   "source": []
  },
  {
   "cell_type": "code",
   "execution_count": 14,
   "metadata": {},
   "outputs": [],
   "source": [
    "import pickle"
   ]
  },
  {
   "cell_type": "code",
   "execution_count": 15,
   "metadata": {},
   "outputs": [],
   "source": [
    "# Save token_to_index and index_to_token\n",
    "with open('bpe_token_to_index.pkl', 'wb') as f:\n",
    "    pickle.dump(token_to_index, f)\n",
    "\n",
    "with open('bpe_index_to_token.pkl', 'wb') as f:\n",
    "    pickle.dump(index_to_token, f)"
   ]
  },
  {
   "cell_type": "code",
   "execution_count": null,
   "metadata": {},
   "outputs": [],
   "source": []
  }
 ],
 "metadata": {
  "kernelspec": {
   "display_name": "My gpu kernel",
   "language": "python",
   "name": "gputest"
  },
  "language_info": {
   "codemirror_mode": {
    "name": "ipython",
    "version": 3
   },
   "file_extension": ".py",
   "mimetype": "text/x-python",
   "name": "python",
   "nbconvert_exporter": "python",
   "pygments_lexer": "ipython3",
   "version": "3.10.10"
  }
 },
 "nbformat": 4,
 "nbformat_minor": 2
}
