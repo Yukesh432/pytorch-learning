{
 "cells": [
  {
   "cell_type": "code",
   "execution_count": 1,
   "metadata": {},
   "outputs": [],
   "source": [
    "import torch\n",
    "import numpy as np"
   ]
  },
  {
   "cell_type": "code",
   "execution_count": 8,
   "metadata": {},
   "outputs": [],
   "source": [
    "def f(x):\n",
    "    return 3*x**2-4*x"
   ]
  },
  {
   "cell_type": "code",
   "execution_count": 9,
   "metadata": {},
   "outputs": [],
   "source": [
    "def numerical_limit(f, x, h):\n",
    "    return ((f(x+h)-f(x))/h)"
   ]
  },
  {
   "cell_type": "code",
   "execution_count": 11,
   "metadata": {},
   "outputs": [
    {
     "name": "stdout",
     "output_type": "stream",
     "text": [
      "h=0.100000, numerical limit= 2.300000\n",
      "h=0.010000, numerical limit= 2.030000\n",
      "h=0.001000, numerical limit= 2.003000\n",
      "h=0.000100, numerical limit= 2.000300\n",
      "h=0.000010, numerical limit= 2.000030\n",
      "h=0.000001, numerical limit= 2.000003\n"
     ]
    }
   ],
   "source": [
    "h=0.1\n",
    "for i in range(6):\n",
    "    print(f'h={h:.6f}, numerical limit={numerical_limit(f, 1, h): .6f}')\n",
    "    h= h*0.1"
   ]
  },
  {
   "cell_type": "code",
   "execution_count": null,
   "metadata": {},
   "outputs": [],
   "source": []
  }
 ],
 "metadata": {
  "kernelspec": {
   "display_name": "My gpu kernel",
   "language": "python",
   "name": "gputest"
  },
  "language_info": {
   "codemirror_mode": {
    "name": "ipython",
    "version": 3
   },
   "file_extension": ".py",
   "mimetype": "text/x-python",
   "name": "python",
   "nbconvert_exporter": "python",
   "pygments_lexer": "ipython3",
   "version": "3.10.10"
  }
 },
 "nbformat": 4,
 "nbformat_minor": 2
}
