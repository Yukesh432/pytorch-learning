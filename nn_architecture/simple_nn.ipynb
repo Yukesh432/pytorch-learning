{
 "cells": [
  {
   "cell_type": "code",
   "execution_count": 1,
   "metadata": {},
   "outputs": [],
   "source": [
    "import torch\n",
    "import torch.nn as nn\n",
    "import torch.optim as optim\n",
    "from torchvision import datasets, transforms\n",
    "from torch.utils.data import DataLoader\n",
    "import matplotlib.pyplot as plt\n",
    "import numpy as np\n",
    "\n",
    "\n",
    "class SeedNet(nn.Module):\n",
    "    def __init__(self):\n",
    "        super(SeedNet, self).__init__()\n",
    "        # Define a simple architecture\n",
    "        self.fc1 = nn.Linear(28*28, 128)  # Example for MNIST dataset\n",
    "        self.fc2 = nn.Linear(128, 10)\n",
    "\n",
    "    def forward(self, x):\n",
    "        x = x.view(-1, 28*28)\n",
    "        x = torch.relu(self.fc1(x))\n",
    "        x = self.fc2(x)\n",
    "        return x\n"
   ]
  },
  {
   "cell_type": "code",
   "execution_count": 2,
   "metadata": {},
   "outputs": [],
   "source": [
    "# Initialize network and other training components\n",
    "seed_net = SeedNet()\n",
    "criterion = nn.CrossEntropyLoss()\n",
    "optimizer = optim.Adam(seed_net.parameters(), lr=0.001)\n",
    "train_data = datasets.MNIST(root='./data', train=True, download=True, transform=transforms.ToTensor())\n",
    "train_loader = DataLoader(train_data, batch_size=64, shuffle=True)\n"
   ]
  },
  {
   "cell_type": "code",
   "execution_count": 3,
   "metadata": {},
   "outputs": [
    {
     "name": "stdout",
     "output_type": "stream",
     "text": [
      "Epoch 1, Loss: 0.09295763820409775\n",
      "Epoch 2, Loss: 0.0894303172826767\n",
      "Epoch 3, Loss: 0.028426874428987503\n",
      "Epoch 4, Loss: 0.041902631521224976\n",
      "Epoch 5, Loss: 0.011603225953876972\n"
     ]
    }
   ],
   "source": [
    "# Train the network\n",
    "for epoch in range(5):  # You can adjust the number of epochs\n",
    "    for data, target in train_loader:\n",
    "        optimizer.zero_grad()\n",
    "        output = seed_net(data)\n",
    "        loss = criterion(output, target)\n",
    "        loss.backward()\n",
    "        optimizer.step()\n",
    "    print(f\"Epoch {epoch+1}, Loss: {loss.item()}\")\n",
    "\n",
    "# Identify critical connections (heuristic approach)\n",
    "# For simplicity, let's assume we're looking at the weights of the last layer\n",
    "weights = seed_net.fc2.weight.data.abs().mean(dim=1)\n",
    "critical_neurons = weights.argsort(descending=True)[:10]  # Top 10 neurons\n"
   ]
  },
  {
   "cell_type": "code",
   "execution_count": null,
   "metadata": {},
   "outputs": [],
   "source": [
    "class GrownNet(nn.Module):\n",
    "    def __init__(self, critical_neurons):\n",
    "        super(GrownNet, self).__init__()\n",
    "        self.fc1 = nn.Linear(28*28, 128)\n",
    "        self.fc2 = nn.Linear(128, 10)\n",
    "        # Adding a new layer connected to critical neurons\n",
    "        self.fc3 = nn.Linear(10, 10)\n",
    "        self.critical_neurons = critical_neurons\n",
    "\n",
    "    def forward(self, x):\n",
    "        x = x.view(-1, 28*28)\n",
    "        x = torch.relu(self.fc1(x))\n",
    "        x = self.fc2(x)\n",
    "        critical_output = x[:, self.critical_neurons]  # Use only critical outputs\n",
    "        x = self.fc3(critical_output)\n",
    "        return x"
   ]
  },
  {
   "cell_type": "code",
   "execution_count": null,
   "metadata": {},
   "outputs": [],
   "source": [
    "grown_net = GrownNet(critical_neurons=critical_neurons)\n",
    "\n",
    "optimizer = optim.Adam(grown_net.parameters(), lr=0.001)\n",
    "\n",
    "# Retrain the grown network\n",
    "for epoch in range(5):  # Adjust the number of epochs as needed\n",
    "    for data, target in train_loader:\n",
    "        optimizer.zero_grad()\n",
    "        output = grown_net(data)\n",
    "        loss = criterion(output, target)\n",
    "        loss.backward()\n",
    "        optimizer.step()\n",
    "    print(f\"Epoch {epoch+1}, Loss: {loss.item()}\")"
   ]
  },
  {
   "cell_type": "code",
   "execution_count": null,
   "metadata": {},
   "outputs": [],
   "source": [
    "# You would typically use a separate validation dataset here\n",
    "# For simplicity, reusing the training data loader in this example\n",
    "correct = 0\n",
    "total = 0\n",
    "with torch.no_grad():\n",
    "    for data, target in train_loader:\n",
    "        output = grown_net(data)\n",
    "        _, predicted = torch.max(output.data, 1)\n",
    "        total += target.size(0)\n",
    "        correct += (predicted == target).sum().item()\n",
    "\n",
    "print(f'Accuracy: {100 * correct / total}%')\n"
   ]
  },
  {
   "cell_type": "code",
   "execution_count": null,
   "metadata": {},
   "outputs": [],
   "source": [
    "# Visualize the initial seed network\n",
    "plt.figure(figsize=(6, 4))\n",
    "plt.title(\"Initial Seed Network Architecture\")\n",
    "plt.bar(range(len(seed_net.fc2.weight[0])), seed_net.fc2.weight[0].detach().numpy())\n",
    "plt.xlabel(\"Connections\")\n",
    "plt.ylabel(\"Weight Values\")\n",
    "plt.show()\n",
    "\n",
    "# Visualize critical connections\n",
    "plt.figure(figsize=(6, 4))\n",
    "plt.title(\"Critical Connections in Seed Network\")\n",
    "plt.bar(range(len(weights)), weights.detach().numpy())\n",
    "plt.xlabel(\"Neurons\")\n",
    "plt.ylabel(\"Mean Absolute Weight Value\")\n",
    "plt.show()\n",
    "\n",
    "# Visualize the grown network\n",
    "plt.figure(figsize=(6, 4))\n",
    "plt.title(\"Grown Network Architecture\")\n",
    "plt.bar(range(len(grown_net.fc3.weight[0])), grown_net.fc3.weight[0].detach().numpy())\n",
    "plt.xlabel(\"Connections\")\n",
    "plt.ylabel(\"Weight Values\")\n",
    "plt.show()"
   ]
  }
 ],
 "metadata": {
  "kernelspec": {
   "display_name": "My gpu kernel",
   "language": "python",
   "name": "gputest"
  },
  "language_info": {
   "codemirror_mode": {
    "name": "ipython",
    "version": 3
   },
   "file_extension": ".py",
   "mimetype": "text/x-python",
   "name": "python",
   "nbconvert_exporter": "python",
   "pygments_lexer": "ipython3",
   "version": "3.10.10"
  }
 },
 "nbformat": 4,
 "nbformat_minor": 2
}
