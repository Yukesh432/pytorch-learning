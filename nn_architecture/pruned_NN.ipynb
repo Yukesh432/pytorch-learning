{
 "cells": [
  {
   "cell_type": "markdown",
   "metadata": {},
   "source": [
    "### Prunning:\n",
    "\n",
    "Pruning in the context of neural networks is a technique aimed at reducing the complexity of a model by trimming unnecessary parameters. This process can lead to a more efficient model in terms of computational resources, often without significantly sacrificing accuracy. Pruning is particularly beneficial for deploying models on devices with limited resources, such as mobile phones or embedded systems.\n",
    "\n",
    "- The core idea behind pruning is the identification and elimination of less important connections (weights) in a neural network.\n",
    "\n",
    "- These are weights that have little to no impact on the output of the network. \n",
    "\n",
    "- Removing these weights reduces the number of operations required to make predictions, thereby speeding up the inference process and reducing the memory footprint of the model."
   ]
  },
  {
   "cell_type": "markdown",
   "metadata": {},
   "source": []
  },
  {
   "cell_type": "code",
   "execution_count": 42,
   "metadata": {},
   "outputs": [
    {
     "name": "stdout",
     "output_type": "stream",
     "text": [
      "Net(\n",
      "  (fc1): Linear(in_features=784, out_features=256, bias=True)\n",
      "  (fc2): Linear(in_features=256, out_features=10, bias=True)\n",
      ")\n"
     ]
    }
   ],
   "source": [
    "import torch\n",
    "import torch.nn as nn\n",
    "import torch.nn.functional as F\n",
    "import torch.optim as optim\n",
    "from torchvision import datasets, transforms\n",
    "\n",
    "# Define the Neural Network Class\n",
    "class Net(nn.Module):\n",
    "    def __init__(self):\n",
    "        super(Net, self).__init__()\n",
    "        # First fully connected layer\n",
    "        self.fc1 = nn.Linear(28*28, 256)  # 28*28 is the size of MNIST images\n",
    "        # Second fully connected layer\n",
    "        # self.fc2 = nn.Linear(512, 256)\n",
    "        # Third fully connected layer that outputs 10 classes\n",
    "        self.fc2 = nn.Linear(256, 10)\n",
    "\n",
    "    def forward(self, x):\n",
    "        # Flatten the image from [28x28] to [784]\n",
    "        x = x.view(-1, 28*28)\n",
    "        # Apply ReLU activation function after each fully connected layer, except the last one\n",
    "        x = F.relu(self.fc1(x))\n",
    "        # x = F.relu(self.fc2(x))\n",
    "        x = self.fc2(x)\n",
    "        # Apply softmax on the output of the last layer to get the probability distribution over 10 classes\n",
    "        return F.log_softmax(x, dim=1)\n",
    "\n",
    "# Create an instance of the Net\n",
    "model = Net()\n",
    "\n",
    "print(model)"
   ]
  },
  {
   "cell_type": "code",
   "execution_count": 43,
   "metadata": {},
   "outputs": [],
   "source": [
    "from torchvision import datasets, transforms\n",
    "from torch.utils.data import DataLoader\n",
    "\n",
    "# Transformations applied on each image\n",
    "transform = transforms.Compose([\n",
    "    transforms.ToTensor(),  # Transform to tensor\n",
    "    transforms.Normalize((0.1307,), (0.3081,))  # Normalizing the images\n",
    "])\n",
    "\n",
    "# Loading MNIST dataset from torchvision.dataset\n",
    "train_data = datasets.MNIST(root='./data', train=True, download=True, transform=transform)\n",
    "test_data = datasets.MNIST(root='./data', train=False, download=True, transform=transform)\n",
    "\n",
    "# DataLoader\n",
    "train_loader = DataLoader(train_data, batch_size=64, shuffle=True)\n",
    "test_loader = DataLoader(test_data, batch_size=1000, shuffle=False)\n"
   ]
  },
  {
   "cell_type": "code",
   "execution_count": 7,
   "metadata": {},
   "outputs": [],
   "source": [
    "import csv\n",
    "import matplotlib.pyplot as plt\n",
    "# Initialize CSV file for logging\n",
    "csv_file = \"training_logs.csv\"\n",
    "with open(csv_file, mode='w', newline='') as file:\n",
    "    writer = csv.writer(file)\n",
    "    # Write the header\n",
    "    writer.writerow(['Epoch', 'Training Loss', 'Training Accuracy', 'Test Loss', 'Test Accuracy'])"
   ]
  },
  {
   "cell_type": "code",
   "execution_count": 7,
   "metadata": {},
   "outputs": [],
   "source": [
    "import torch.optim as optim\n",
    "from tqdm import tqdm\n",
    "# Training Function\n",
    "def train(model, device, train_loader, optimizer, epoch):\n",
    "    model.train()\n",
    "    correct = 0\n",
    "    train_loss = 0\n",
    "    for batch_idx, (data, target) in enumerate(train_loader):\n",
    "        data, target = data.to(device), target.to(device)\n",
    "        optimizer.zero_grad()\n",
    "        output = model(data)\n",
    "        loss = F.nll_loss(output, target)\n",
    "        train_loss += loss.item()\n",
    "        loss.backward()\n",
    "        optimizer.step()\n",
    "        pred = output.argmax(dim=1, keepdim=True)  # get the index of the max log-probability\n",
    "        correct += pred.eq(target.view_as(pred)).sum().item()\n",
    "    train_loss /= len(train_loader.dataset)\n",
    "    print('Train Epoch: {} \\tLoss: {:.6f}, Accuracy: {:.2f}%'.format(epoch, train_loss, 100. * correct / len(train_loader.dataset)))\n",
    "    train_accuracy = 100. * correct / len(train_loader.dataset)\n",
    "    return train_loss, train_accuracy\n",
    "\n",
    "# Evaluation Function\n",
    "def test(model, device, test_loader):\n",
    "    model.eval()\n",
    "    test_loss = 0\n",
    "    correct = 0\n",
    "    with torch.no_grad():\n",
    "        for data, target in test_loader:\n",
    "            data, target = data.to(device), target.to(device)\n",
    "            output = model(data)\n",
    "            test_loss += F.nll_loss(output, target, reduction='sum').item()  # sum up batch loss\n",
    "            pred = output.argmax(dim=1, keepdim=True)  # get the index of the max log-probability\n",
    "            correct += pred.eq(target.view_as(pred)).sum().item()\n",
    "    test_loss /= len(test_loader.dataset)\n",
    "    print('Test set: Average loss: {:.4f}, Accuracy: {:.2f}%\\n'.format(test_loss, 100. * correct / len(test_loader.dataset)))\n",
    "    test_accuracy= 100. * correct / len(test_loader.dataset)\n",
    "    return test_loss, test_accuracy\n"
   ]
  },
  {
   "cell_type": "code",
   "execution_count": 44,
   "metadata": {},
   "outputs": [],
   "source": [
    "# Set up training\n",
    "device = torch.device(\"cuda\" if torch.cuda.is_available() else \"cpu\")\n",
    "model = Net().to(device)\n",
    "# optimizer = optim.Adam(model.parameters(), lr=0.001)"
   ]
  },
  {
   "cell_type": "code",
   "execution_count": 58,
   "metadata": {},
   "outputs": [
    {
     "data": {
      "text/plain": [
       "203530"
      ]
     },
     "execution_count": 58,
     "metadata": {},
     "output_type": "execute_result"
    }
   ],
   "source": [
    "# model.count_params()\n",
    "sum(p.numel() for p in model.parameters())\n"
   ]
  },
  {
   "cell_type": "code",
   "execution_count": 45,
   "metadata": {},
   "outputs": [
    {
     "name": "stderr",
     "output_type": "stream",
     "text": [
      "  0%|          | 0/10 [00:00<?, ?it/s]"
     ]
    },
    {
     "name": "stdout",
     "output_type": "stream",
     "text": [
      "Train Epoch: 1 \tLoss: 0.036489, Accuracy: 10.82%\n"
     ]
    },
    {
     "name": "stderr",
     "output_type": "stream",
     "text": [
      " 10%|█         | 1/10 [00:13<02:02, 13.62s/it]"
     ]
    },
    {
     "name": "stdout",
     "output_type": "stream",
     "text": [
      "Test set: Average loss: 2.3304, Accuracy: 10.86%\n",
      "\n",
      "Train Epoch: 2 \tLoss: 0.036489, Accuracy: 10.82%\n"
     ]
    },
    {
     "name": "stderr",
     "output_type": "stream",
     "text": [
      " 20%|██        | 2/10 [00:27<01:48, 13.61s/it]"
     ]
    },
    {
     "name": "stdout",
     "output_type": "stream",
     "text": [
      "Test set: Average loss: 2.3304, Accuracy: 10.86%\n",
      "\n",
      "Train Epoch: 3 \tLoss: 0.036489, Accuracy: 10.82%\n"
     ]
    },
    {
     "name": "stderr",
     "output_type": "stream",
     "text": [
      " 30%|███       | 3/10 [00:40<01:34, 13.52s/it]"
     ]
    },
    {
     "name": "stdout",
     "output_type": "stream",
     "text": [
      "Test set: Average loss: 2.3304, Accuracy: 10.86%\n",
      "\n",
      "Train Epoch: 4 \tLoss: 0.036489, Accuracy: 10.82%\n"
     ]
    },
    {
     "name": "stderr",
     "output_type": "stream",
     "text": [
      " 40%|████      | 4/10 [00:54<01:21, 13.51s/it]"
     ]
    },
    {
     "name": "stdout",
     "output_type": "stream",
     "text": [
      "Test set: Average loss: 2.3304, Accuracy: 10.86%\n",
      "\n",
      "Train Epoch: 5 \tLoss: 0.036489, Accuracy: 10.82%\n"
     ]
    },
    {
     "name": "stderr",
     "output_type": "stream",
     "text": [
      " 50%|█████     | 5/10 [01:07<01:07, 13.46s/it]"
     ]
    },
    {
     "name": "stdout",
     "output_type": "stream",
     "text": [
      "Test set: Average loss: 2.3304, Accuracy: 10.86%\n",
      "\n",
      "Train Epoch: 6 \tLoss: 0.036488, Accuracy: 10.82%\n"
     ]
    },
    {
     "name": "stderr",
     "output_type": "stream",
     "text": [
      " 60%|██████    | 6/10 [01:20<00:53, 13.42s/it]"
     ]
    },
    {
     "name": "stdout",
     "output_type": "stream",
     "text": [
      "Test set: Average loss: 2.3304, Accuracy: 10.86%\n",
      "\n",
      "Train Epoch: 7 \tLoss: 0.036488, Accuracy: 10.82%\n"
     ]
    },
    {
     "name": "stderr",
     "output_type": "stream",
     "text": [
      " 70%|███████   | 7/10 [01:34<00:40, 13.37s/it]"
     ]
    },
    {
     "name": "stdout",
     "output_type": "stream",
     "text": [
      "Test set: Average loss: 2.3304, Accuracy: 10.86%\n",
      "\n",
      "Train Epoch: 8 \tLoss: 0.036488, Accuracy: 10.82%\n"
     ]
    },
    {
     "name": "stderr",
     "output_type": "stream",
     "text": [
      " 80%|████████  | 8/10 [01:47<00:26, 13.39s/it]"
     ]
    },
    {
     "name": "stdout",
     "output_type": "stream",
     "text": [
      "Test set: Average loss: 2.3304, Accuracy: 10.86%\n",
      "\n",
      "Train Epoch: 9 \tLoss: 0.036489, Accuracy: 10.82%\n"
     ]
    },
    {
     "name": "stderr",
     "output_type": "stream",
     "text": [
      " 90%|█████████ | 9/10 [02:01<00:13, 13.42s/it]"
     ]
    },
    {
     "name": "stdout",
     "output_type": "stream",
     "text": [
      "Test set: Average loss: 2.3304, Accuracy: 10.86%\n",
      "\n",
      "Train Epoch: 10 \tLoss: 0.036490, Accuracy: 10.82%\n"
     ]
    },
    {
     "name": "stderr",
     "output_type": "stream",
     "text": [
      "100%|██████████| 10/10 [02:14<00:00, 13.45s/it]"
     ]
    },
    {
     "name": "stdout",
     "output_type": "stream",
     "text": [
      "Test set: Average loss: 2.3304, Accuracy: 10.86%\n",
      "\n"
     ]
    },
    {
     "name": "stderr",
     "output_type": "stream",
     "text": [
      "\n"
     ]
    }
   ],
   "source": [
    "\n",
    "# Training and Testing the model\n",
    "for epoch in tqdm(range(1, 11)):\n",
    "    train_loss, train_accuracy = train(model, device, train_loader, optimizer, epoch)\n",
    "    test_loss, test_accuracy = test(model, device, test_loader)\n",
    "    # Write to CSV\n",
    "    # with open(csv_file, mode='a', newline='') as file:\n",
    "    #     writer = csv.writer(file)\n",
    "    #     writer.writerow([epoch, train_loss, train_accuracy, test_loss, test_accuracy])\n"
   ]
  },
  {
   "cell_type": "code",
   "execution_count": 10,
   "metadata": {},
   "outputs": [
    {
     "name": "stderr",
     "output_type": "stream",
     "text": [
      "  0%|          | 0/10 [00:00<?, ?it/s]"
     ]
    },
    {
     "name": "stdout",
     "output_type": "stream",
     "text": [
      "Train Epoch: 1 \tLoss: 0.003137, Accuracy: 93.90%\n"
     ]
    },
    {
     "name": "stderr",
     "output_type": "stream",
     "text": [
      " 10%|█         | 1/10 [00:21<03:15, 21.76s/it]"
     ]
    },
    {
     "name": "stdout",
     "output_type": "stream",
     "text": [
      "Test set: Average loss: 0.0994, Accuracy: 96.99%\n",
      "\n",
      "Train Epoch: 2 \tLoss: 0.001339, Accuracy: 97.30%\n"
     ]
    },
    {
     "name": "stderr",
     "output_type": "stream",
     "text": [
      " 20%|██        | 2/10 [00:49<03:20, 25.12s/it]"
     ]
    },
    {
     "name": "stdout",
     "output_type": "stream",
     "text": [
      "Test set: Average loss: 0.0825, Accuracy: 97.44%\n",
      "\n",
      "Train Epoch: 3 \tLoss: 0.000938, Accuracy: 98.06%\n"
     ]
    },
    {
     "name": "stderr",
     "output_type": "stream",
     "text": [
      " 30%|███       | 3/10 [01:21<03:18, 28.37s/it]"
     ]
    },
    {
     "name": "stdout",
     "output_type": "stream",
     "text": [
      "Test set: Average loss: 0.0835, Accuracy: 97.42%\n",
      "\n",
      "Train Epoch: 4 \tLoss: 0.000704, Accuracy: 98.53%\n"
     ]
    },
    {
     "name": "stderr",
     "output_type": "stream",
     "text": [
      " 40%|████      | 4/10 [01:45<02:39, 26.60s/it]"
     ]
    },
    {
     "name": "stdout",
     "output_type": "stream",
     "text": [
      "Test set: Average loss: 0.0795, Accuracy: 97.78%\n",
      "\n",
      "Train Epoch: 5 \tLoss: 0.000594, Accuracy: 98.76%\n"
     ]
    },
    {
     "name": "stderr",
     "output_type": "stream",
     "text": [
      " 50%|█████     | 5/10 [02:07<02:04, 24.92s/it]"
     ]
    },
    {
     "name": "stdout",
     "output_type": "stream",
     "text": [
      "Test set: Average loss: 0.0785, Accuracy: 98.01%\n",
      "\n",
      "Train Epoch: 6 \tLoss: 0.000518, Accuracy: 98.97%\n"
     ]
    },
    {
     "name": "stderr",
     "output_type": "stream",
     "text": [
      " 60%|██████    | 6/10 [02:33<01:41, 25.26s/it]"
     ]
    },
    {
     "name": "stdout",
     "output_type": "stream",
     "text": [
      "Test set: Average loss: 0.0958, Accuracy: 97.73%\n",
      "\n",
      "Train Epoch: 7 \tLoss: 0.000454, Accuracy: 99.02%\n"
     ]
    },
    {
     "name": "stderr",
     "output_type": "stream",
     "text": [
      " 70%|███████   | 7/10 [03:04<01:21, 27.29s/it]"
     ]
    },
    {
     "name": "stdout",
     "output_type": "stream",
     "text": [
      "Test set: Average loss: 0.0785, Accuracy: 98.08%\n",
      "\n",
      "Train Epoch: 8 \tLoss: 0.000342, Accuracy: 99.31%\n"
     ]
    },
    {
     "name": "stderr",
     "output_type": "stream",
     "text": [
      " 80%|████████  | 8/10 [03:31<00:54, 27.17s/it]"
     ]
    },
    {
     "name": "stdout",
     "output_type": "stream",
     "text": [
      "Test set: Average loss: 0.1095, Accuracy: 97.58%\n",
      "\n",
      "Train Epoch: 9 \tLoss: 0.000339, Accuracy: 99.29%\n"
     ]
    },
    {
     "name": "stderr",
     "output_type": "stream",
     "text": [
      " 90%|█████████ | 9/10 [03:56<00:26, 26.56s/it]"
     ]
    },
    {
     "name": "stdout",
     "output_type": "stream",
     "text": [
      "Test set: Average loss: 0.0961, Accuracy: 97.63%\n",
      "\n",
      "Train Epoch: 10 \tLoss: 0.000323, Accuracy: 99.35%\n"
     ]
    },
    {
     "name": "stderr",
     "output_type": "stream",
     "text": [
      "100%|██████████| 10/10 [04:21<00:00, 26.17s/it]"
     ]
    },
    {
     "name": "stdout",
     "output_type": "stream",
     "text": [
      "Test set: Average loss: 0.0969, Accuracy: 97.83%\n",
      "\n"
     ]
    },
    {
     "name": "stderr",
     "output_type": "stream",
     "text": [
      "\n"
     ]
    }
   ],
   "source": [
    "\n",
    "# Training and Testing the model\n",
    "for epoch in tqdm(range(1, 11)):\n",
    "    train_loss, train_accuracy = train(model, device, train_loader, optimizer, epoch)\n",
    "    test_loss, test_accuracy = test(model, device, test_loader)\n",
    "    # Write to CSV\n",
    "    with open(csv_file, mode='a', newline='') as file:\n",
    "        writer = csv.writer(file)\n",
    "        writer.writerow([epoch, train_loss, train_accuracy, test_loss, test_accuracy])\n"
   ]
  },
  {
   "cell_type": "code",
   "execution_count": 11,
   "metadata": {},
   "outputs": [
    {
     "data": {
      "image/png": "[encoded data removed]",
      "text/plain": [
       "<Figure size 1000x600 with 1 Axes>"
      ]
     },
     "metadata": {},
     "output_type": "display_data"
    }
   ],
   "source": [
    "import pandas as pd\n",
    "\n",
    "# Load the logs into a DataFrame\n",
    "logs = pd.read_csv(csv_file)\n",
    "\n",
    "# Plotting\n",
    "plt.figure(figsize=(10, 6))\n",
    "plt.plot(logs['Epoch'], logs['Training Loss'], label='Training Loss')\n",
    "plt.plot(logs['Epoch'], logs['Test Loss'], label='Evaluation Loss')\n",
    "plt.xlabel('Epoch')\n",
    "plt.ylabel('Loss')\n",
    "plt.title('Training and Evaluation Loss Over Epochs')\n",
    "plt.legend()\n",
    "plt.show()\n"
   ]
  },
  {
   "cell_type": "code",
   "execution_count": 13,
   "metadata": {},
   "outputs": [
    {
     "data": {
      "text/html": [
       "<div>\n",
       "<style scoped>\n",
       "    .dataframe tbody tr th:only-of-type {\n",
       "        vertical-align: middle;\n",
       "    }\n",
       "\n",
       "    .dataframe tbody tr th {\n",
       "        vertical-align: top;\n",
       "    }\n",
       "\n",
       "    .dataframe thead th {\n",
       "        text-align: right;\n",
       "    }\n",
       "</style>\n",
       "<table border=\"1\" class=\"dataframe\">\n",
       "  <thead>\n",
       "    <tr style=\"text-align: right;\">\n",
       "      <th></th>\n",
       "      <th>Epoch</th>\n",
       "      <th>Training Loss</th>\n",
       "      <th>Training Accuracy</th>\n",
       "      <th>Test Loss</th>\n",
       "      <th>Test Accuracy</th>\n",
       "    </tr>\n",
       "  </thead>\n",
       "  <tbody>\n",
       "    <tr>\n",
       "      <th>0</th>\n",
       "      <td>1</td>\n",
       "      <td>0.003144</td>\n",
       "      <td>93.811667</td>\n",
       "      <td>0.096007</td>\n",
       "      <td>97.10</td>\n",
       "    </tr>\n",
       "    <tr>\n",
       "      <th>1</th>\n",
       "      <td>2</td>\n",
       "      <td>0.001322</td>\n",
       "      <td>97.306667</td>\n",
       "      <td>0.084641</td>\n",
       "      <td>97.42</td>\n",
       "    </tr>\n",
       "    <tr>\n",
       "      <th>2</th>\n",
       "      <td>3</td>\n",
       "      <td>0.000914</td>\n",
       "      <td>98.121667</td>\n",
       "      <td>0.073816</td>\n",
       "      <td>97.71</td>\n",
       "    </tr>\n",
       "    <tr>\n",
       "      <th>3</th>\n",
       "      <td>4</td>\n",
       "      <td>0.000713</td>\n",
       "      <td>98.618333</td>\n",
       "      <td>0.119056</td>\n",
       "      <td>96.56</td>\n",
       "    </tr>\n",
       "    <tr>\n",
       "      <th>4</th>\n",
       "      <td>1</td>\n",
       "      <td>0.003137</td>\n",
       "      <td>93.896667</td>\n",
       "      <td>0.099358</td>\n",
       "      <td>96.99</td>\n",
       "    </tr>\n",
       "    <tr>\n",
       "      <th>5</th>\n",
       "      <td>2</td>\n",
       "      <td>0.001339</td>\n",
       "      <td>97.295000</td>\n",
       "      <td>0.082529</td>\n",
       "      <td>97.44</td>\n",
       "    </tr>\n",
       "    <tr>\n",
       "      <th>6</th>\n",
       "      <td>3</td>\n",
       "      <td>0.000938</td>\n",
       "      <td>98.058333</td>\n",
       "      <td>0.083532</td>\n",
       "      <td>97.42</td>\n",
       "    </tr>\n",
       "    <tr>\n",
       "      <th>7</th>\n",
       "      <td>4</td>\n",
       "      <td>0.000704</td>\n",
       "      <td>98.525000</td>\n",
       "      <td>0.079524</td>\n",
       "      <td>97.78</td>\n",
       "    </tr>\n",
       "    <tr>\n",
       "      <th>8</th>\n",
       "      <td>5</td>\n",
       "      <td>0.000594</td>\n",
       "      <td>98.761667</td>\n",
       "      <td>0.078474</td>\n",
       "      <td>98.01</td>\n",
       "    </tr>\n",
       "    <tr>\n",
       "      <th>9</th>\n",
       "      <td>6</td>\n",
       "      <td>0.000518</td>\n",
       "      <td>98.965000</td>\n",
       "      <td>0.095808</td>\n",
       "      <td>97.73</td>\n",
       "    </tr>\n",
       "  </tbody>\n",
       "</table>\n",
       "</div>"
      ],
      "text/plain": [
       "   Epoch  Training Loss  Training Accuracy  Test Loss  Test Accuracy\n",
       "0      1       0.003144          93.811667   0.096007          97.10\n",
       "1      2       0.001322          97.306667   0.084641          97.42\n",
       "2      3       0.000914          98.121667   0.073816          97.71\n",
       "3      4       0.000713          98.618333   0.119056          96.56\n",
       "4      1       0.003137          93.896667   0.099358          96.99\n",
       "5      2       0.001339          97.295000   0.082529          97.44\n",
       "6      3       0.000938          98.058333   0.083532          97.42\n",
       "7      4       0.000704          98.525000   0.079524          97.78\n",
       "8      5       0.000594          98.761667   0.078474          98.01\n",
       "9      6       0.000518          98.965000   0.095808          97.73"
      ]
     },
     "execution_count": 13,
     "metadata": {},
     "output_type": "execute_result"
    }
   ],
   "source": [
    "logs.head(10)"
   ]
  },
  {
   "cell_type": "markdown",
   "metadata": {},
   "source": [
    "## Now we prune the network"
   ]
  },
  {
   "cell_type": "code",
   "execution_count": 3,
   "metadata": {},
   "outputs": [],
   "source": [
    "from torch.nn.utils import prune\n",
    "\n",
    "# Function to apply pruning to the network\n",
    "def apply_pruning(model, amount=0.1):\n",
    "    \"\"\"\n",
    "    Apply pruning to the layers of the model.\n",
    "    amount: Fraction of connections to prune.\n",
    "    \"\"\"\n",
    "    for name, module in model.named_modules():\n",
    "        # Prune 10% of connections in all linear layers\n",
    "        if isinstance(module, nn.Linear):\n",
    "            prune.l1_unstructured(module, name='weight', amount=amount)\n",
    "            prune.remove(module, 'weight')  # Make the pruning permanent\n",
    "\n",
    "# def manual_pruning(model, pruning_percentage=0.1):\n",
    "#     \"\"\"\n",
    "#     Manually prune the lowest magnitude weights from the model's linear layers.\n",
    "\n",
    "#     Args:\n",
    "#     model (torch.nn.Module): The neural network model to be pruned.\n",
    "#     pruning_percentage (float): The percentage of weights to prune from each layer.\n",
    "#     \"\"\"\n",
    "#     for name, module in model.named_modules():\n",
    "#         # Check if the module is a linear layer\n",
    "#         if isinstance(module, nn.Linear):\n",
    "#             # Get the absolute value of weights\n",
    "#             abs_weights = torch.abs(module.weight.data)\n",
    "#             # Determine the threshold for pruning\n",
    "#             threshold = torch.quantile(abs_weights, pruning_percentage)\n",
    "#             # Create a mask where weights lower than the threshold are set to zero\n",
    "#             mask = abs_weights.ge(threshold).float()\n",
    "#             # Apply the mask to the weights (set pruned weights to zero)\n",
    "#             module.weight.data.mul_(mask)\n",
    "\n"
   ]
  },
  {
   "cell_type": "code",
   "execution_count": 10,
   "metadata": {},
   "outputs": [
    {
     "name": "stderr",
     "output_type": "stream",
     "text": [
      "  0%|          | 0/5 [00:00<?, ?it/s]"
     ]
    },
    {
     "name": "stdout",
     "output_type": "stream",
     "text": [
      "Pruning Iteration: 1\n",
      "Train Epoch: 1 \tLoss: 0.003226, Accuracy: 93.68%\n",
      "Test set: Average loss: 0.0945, Accuracy: 96.90%\n",
      "\n",
      "Train Epoch: 2 \tLoss: 0.001336, Accuracy: 97.34%\n",
      "Test set: Average loss: 0.0755, Accuracy: 97.57%\n",
      "\n",
      "Train Epoch: 3 \tLoss: 0.000934, Accuracy: 98.08%\n",
      "Test set: Average loss: 0.0941, Accuracy: 97.15%\n",
      "\n",
      "Train Epoch: 4 \tLoss: 0.000763, Accuracy: 98.40%\n",
      "Test set: Average loss: 0.0797, Accuracy: 97.83%\n",
      "\n",
      "Train Epoch: 5 \tLoss: 0.000553, Accuracy: 98.84%\n",
      "Test set: Average loss: 0.0787, Accuracy: 97.96%\n",
      "\n",
      "Train Epoch: 6 \tLoss: 0.000497, Accuracy: 98.94%\n",
      "Test set: Average loss: 0.0904, Accuracy: 97.82%\n",
      "\n",
      "Train Epoch: 7 \tLoss: 0.000462, Accuracy: 99.09%\n",
      "Test set: Average loss: 0.0790, Accuracy: 97.86%\n",
      "\n",
      "Train Epoch: 8 \tLoss: 0.000385, Accuracy: 99.17%\n",
      "Test set: Average loss: 0.0886, Accuracy: 97.87%\n",
      "\n",
      "Train Epoch: 9 \tLoss: 0.000326, Accuracy: 99.33%\n",
      "Test set: Average loss: 0.1125, Accuracy: 97.44%\n",
      "\n",
      "Train Epoch: 10 \tLoss: 0.000345, Accuracy: 99.31%\n"
     ]
    },
    {
     "name": "stderr",
     "output_type": "stream",
     "text": [
      " 20%|██        | 1/5 [11:04<44:19, 664.93s/it]"
     ]
    },
    {
     "name": "stdout",
     "output_type": "stream",
     "text": [
      "Test set: Average loss: 0.0957, Accuracy: 97.86%\n",
      "\n",
      "Pruning Iteration: 2\n",
      "Train Epoch: 1 \tLoss: 0.000360, Accuracy: 99.34%\n",
      "Test set: Average loss: 0.0937, Accuracy: 98.04%\n",
      "\n",
      "Train Epoch: 2 \tLoss: 0.000291, Accuracy: 99.44%\n",
      "Test set: Average loss: 0.1137, Accuracy: 97.91%\n",
      "\n",
      "Train Epoch: 3 \tLoss: 0.000259, Accuracy: 99.50%\n",
      "Test set: Average loss: 0.0926, Accuracy: 98.29%\n",
      "\n",
      "Train Epoch: 4 \tLoss: 0.000257, Accuracy: 99.53%\n",
      "Test set: Average loss: 0.1057, Accuracy: 97.99%\n",
      "\n",
      "Train Epoch: 5 \tLoss: 0.000290, Accuracy: 99.44%\n",
      "Test set: Average loss: 0.1261, Accuracy: 97.93%\n",
      "\n",
      "Train Epoch: 6 \tLoss: 0.000254, Accuracy: 99.54%\n",
      "Test set: Average loss: 0.1162, Accuracy: 97.62%\n",
      "\n",
      "Train Epoch: 7 \tLoss: 0.000166, Accuracy: 99.67%\n",
      "Test set: Average loss: 0.1176, Accuracy: 98.16%\n",
      "\n",
      "Train Epoch: 8 \tLoss: 0.000195, Accuracy: 99.58%\n",
      "Test set: Average loss: 0.1184, Accuracy: 97.88%\n",
      "\n",
      "Train Epoch: 9 \tLoss: 0.000268, Accuracy: 99.52%\n",
      "Test set: Average loss: 0.1264, Accuracy: 97.91%\n",
      "\n",
      "Train Epoch: 10 \tLoss: 0.000164, Accuracy: 99.69%\n"
     ]
    },
    {
     "name": "stderr",
     "output_type": "stream",
     "text": [
      " 40%|████      | 2/5 [21:05<31:21, 627.27s/it]"
     ]
    },
    {
     "name": "stdout",
     "output_type": "stream",
     "text": [
      "Test set: Average loss: 0.1116, Accuracy: 98.35%\n",
      "\n",
      "Pruning Iteration: 3\n",
      "Train Epoch: 1 \tLoss: 0.000291, Accuracy: 99.55%\n",
      "Test set: Average loss: 0.1305, Accuracy: 97.93%\n",
      "\n",
      "Train Epoch: 2 \tLoss: 0.000188, Accuracy: 99.71%\n",
      "Test set: Average loss: 0.1604, Accuracy: 97.77%\n",
      "\n",
      "Train Epoch: 3 \tLoss: 0.000177, Accuracy: 99.67%\n",
      "Test set: Average loss: 0.1289, Accuracy: 97.86%\n",
      "\n",
      "Train Epoch: 4 \tLoss: 0.000162, Accuracy: 99.69%\n",
      "Test set: Average loss: 0.1392, Accuracy: 98.15%\n",
      "\n",
      "Train Epoch: 5 \tLoss: 0.000188, Accuracy: 99.65%\n",
      "Test set: Average loss: 0.1210, Accuracy: 98.23%\n",
      "\n",
      "Train Epoch: 6 \tLoss: 0.000185, Accuracy: 99.71%\n",
      "Test set: Average loss: 0.1386, Accuracy: 98.22%\n",
      "\n",
      "Train Epoch: 7 \tLoss: 0.000202, Accuracy: 99.68%\n",
      "Test set: Average loss: 0.1560, Accuracy: 97.93%\n",
      "\n",
      "Train Epoch: 8 \tLoss: 0.000191, Accuracy: 99.65%\n",
      "Test set: Average loss: 0.1501, Accuracy: 98.06%\n",
      "\n",
      "Train Epoch: 9 \tLoss: 0.000187, Accuracy: 99.69%\n",
      "Test set: Average loss: 0.1716, Accuracy: 97.72%\n",
      "\n",
      "Train Epoch: 10 \tLoss: 0.000152, Accuracy: 99.73%\n"
     ]
    },
    {
     "name": "stderr",
     "output_type": "stream",
     "text": [
      " 60%|██████    | 3/5 [31:26<20:48, 624.33s/it]"
     ]
    },
    {
     "name": "stdout",
     "output_type": "stream",
     "text": [
      "Test set: Average loss: 0.1556, Accuracy: 98.08%\n",
      "\n",
      "Pruning Iteration: 4\n",
      "Train Epoch: 1 \tLoss: 0.000305, Accuracy: 99.60%\n",
      "Test set: Average loss: 0.1903, Accuracy: 98.11%\n",
      "\n",
      "Train Epoch: 2 \tLoss: 0.000169, Accuracy: 99.77%\n",
      "Test set: Average loss: 0.2128, Accuracy: 98.06%\n",
      "\n",
      "Train Epoch: 3 \tLoss: 0.000182, Accuracy: 99.74%\n",
      "Test set: Average loss: 0.2044, Accuracy: 97.85%\n",
      "\n",
      "Train Epoch: 4 \tLoss: 0.000166, Accuracy: 99.74%\n",
      "Test set: Average loss: 0.1766, Accuracy: 98.17%\n",
      "\n",
      "Train Epoch: 5 \tLoss: 0.000181, Accuracy: 99.73%\n",
      "Test set: Average loss: 0.1883, Accuracy: 98.18%\n",
      "\n",
      "Train Epoch: 6 \tLoss: 0.000123, Accuracy: 99.81%\n",
      "Test set: Average loss: 0.2045, Accuracy: 97.98%\n",
      "\n",
      "Train Epoch: 7 \tLoss: 0.000168, Accuracy: 99.76%\n",
      "Test set: Average loss: 0.2171, Accuracy: 98.03%\n",
      "\n",
      "Train Epoch: 8 \tLoss: 0.000203, Accuracy: 99.69%\n",
      "Test set: Average loss: 0.2028, Accuracy: 98.14%\n",
      "\n",
      "Train Epoch: 9 \tLoss: 0.000182, Accuracy: 99.73%\n",
      "Test set: Average loss: 0.2036, Accuracy: 98.11%\n",
      "\n",
      "Train Epoch: 10 \tLoss: 0.000163, Accuracy: 99.77%\n"
     ]
    },
    {
     "name": "stderr",
     "output_type": "stream",
     "text": [
      " 80%|████████  | 4/5 [42:25<10:37, 637.88s/it]"
     ]
    },
    {
     "name": "stdout",
     "output_type": "stream",
     "text": [
      "Test set: Average loss: 0.2069, Accuracy: 98.11%\n",
      "\n",
      "Pruning Iteration: 5\n",
      "Train Epoch: 1 \tLoss: 0.000235, Accuracy: 99.74%\n",
      "Test set: Average loss: 0.2706, Accuracy: 98.09%\n",
      "\n",
      "Train Epoch: 2 \tLoss: 0.000208, Accuracy: 99.76%\n",
      "Test set: Average loss: 0.2294, Accuracy: 98.22%\n",
      "\n",
      "Train Epoch: 3 \tLoss: 0.000217, Accuracy: 99.77%\n",
      "Test set: Average loss: 0.2665, Accuracy: 97.86%\n",
      "\n",
      "Train Epoch: 4 \tLoss: 0.000167, Accuracy: 99.77%\n",
      "Test set: Average loss: 0.2674, Accuracy: 98.05%\n",
      "\n",
      "Train Epoch: 5 \tLoss: 0.000118, Accuracy: 99.83%\n",
      "Test set: Average loss: 0.2295, Accuracy: 98.15%\n",
      "\n",
      "Train Epoch: 6 \tLoss: 0.000183, Accuracy: 99.78%\n",
      "Test set: Average loss: 0.2152, Accuracy: 98.15%\n",
      "\n",
      "Train Epoch: 7 \tLoss: 0.000185, Accuracy: 99.75%\n",
      "Test set: Average loss: 0.2485, Accuracy: 98.18%\n",
      "\n",
      "Train Epoch: 8 \tLoss: 0.000156, Accuracy: 99.84%\n",
      "Test set: Average loss: 0.2291, Accuracy: 98.22%\n",
      "\n",
      "Train Epoch: 9 \tLoss: 0.000208, Accuracy: 99.78%\n",
      "Test set: Average loss: 0.2537, Accuracy: 97.86%\n",
      "\n",
      "Train Epoch: 10 \tLoss: 0.000187, Accuracy: 99.78%\n"
     ]
    },
    {
     "name": "stderr",
     "output_type": "stream",
     "text": [
      "100%|██████████| 5/5 [53:00<00:00, 636.18s/it]"
     ]
    },
    {
     "name": "stdout",
     "output_type": "stream",
     "text": [
      "Test set: Average loss: 0.2725, Accuracy: 97.82%\n",
      "\n"
     ]
    },
    {
     "name": "stderr",
     "output_type": "stream",
     "text": [
      "\n"
     ]
    }
   ],
   "source": [
    "import csv\n",
    "from tqdm import tqdm\n",
    "# Initialize CSV file for logging the pruned network\n",
    "csv_file_pruned = \"training_logs_pruned.csv\"\n",
    "with open(csv_file_pruned, mode='w', newline='') as file:\n",
    "    writer = csv.writer(file)\n",
    "    writer.writerow(['Pruning Iteration', 'Epoch', 'Training Loss', 'Training Accuracy', 'Test Loss', 'Test Accuracy'])\n",
    "\n",
    "# Number of pruning iterations\n",
    "num_pruning_iterations = 5\n",
    "\n",
    "# Pruning and retraining\n",
    "for prune_iter in tqdm(range(num_pruning_iterations)):\n",
    "    print(f\"Pruning Iteration: {prune_iter + 1}\")\n",
    "\n",
    "    # Apply pruning\n",
    "    apply_pruning(model, amount=0.1)  # Prune 10% of connections\n",
    "\n",
    "    # Reinitialize optimizer (optional, to reset any momentum etc.)\n",
    "    optimizer = optim.Adam(model.parameters(), lr=0.001)\n",
    "\n",
    "    # Retrain the model for 10 epochs after each pruning iteration\n",
    "    for epoch in range(1, 11):\n",
    "        train_loss, train_accuracy = train(model, device, train_loader, optimizer, epoch)\n",
    "        test_loss, test_accuracy = test(model, device, test_loader)\n",
    "        \n",
    "        # Write to CSV\n",
    "        with open(csv_file_pruned, mode='a', newline='') as file:\n",
    "            writer = csv.writer(file)\n",
    "            writer.writerow([prune_iter + 1, epoch, train_loss, train_accuracy, test_loss, test_accuracy])\n"
   ]
  },
  {
   "cell_type": "code",
   "execution_count": 36,
   "metadata": {},
   "outputs": [
    {
     "data": {
      "text/plain": [
       "Pruning Iteration     2.000000\n",
       "Epoch                10.000000\n",
       "Training Loss         0.000164\n",
       "Training Accuracy    99.686667\n",
       "Test Loss             0.111607\n",
       "Test Accuracy        98.350000\n",
       "Name: 19, dtype: float64"
      ]
     },
     "execution_count": 36,
     "metadata": {},
     "output_type": "execute_result"
    }
   ],
   "source": [
    "# logs.tail(20)\n",
    "# logs.loc[logs['Test Accuracy'].idxmax()]\n"
   ]
  },
  {
   "cell_type": "code",
   "execution_count": 12,
   "metadata": {},
   "outputs": [
    {
     "data": {
      "image/png": "[encoded data removed]",
      "text/plain": [
       "<Figure size 1000x600 with 1 Axes>"
      ]
     },
     "metadata": {},
     "output_type": "display_data"
    }
   ],
   "source": [
    "import pandas as pd\n",
    "import matplotlib.pyplot as plt\n",
    "\n",
    "# Load the logs into a DataFrame\n",
    "logs = pd.read_csv(\"training_logs_pruned.csv\")\n",
    "\n",
    "# Plotting\n",
    "plt.figure(figsize=(10, 6))\n",
    "plt.plot(logs['Epoch'], logs['Training Loss'], label='Training Loss')\n",
    "plt.plot(logs['Epoch'], logs['Test Loss'], label='Evaluation Loss')\n",
    "plt.xlabel('Epoch')\n",
    "plt.ylabel('Loss')\n",
    "plt.title('Training and Evaluation Loss Over Epochs')\n",
    "plt.legend()\n",
    "plt.show()"
   ]
  },
  {
   "cell_type": "code",
   "execution_count": null,
   "metadata": {},
   "outputs": [],
   "source": []
  }
 ],
 "metadata": {
  "kernelspec": {
   "display_name": "My gpu kernel",
   "language": "python",
   "name": "gputest"
  },
  "language_info": {
   "codemirror_mode": {
    "name": "ipython",
    "version": 3
   },
   "file_extension": ".py",
   "mimetype": "text/x-python",
   "name": "python",
   "nbconvert_exporter": "python",
   "pygments_lexer": "ipython3",
   "version": "3.10.10"
  }
 },
 "nbformat": 4,
 "nbformat_minor": 2
}
